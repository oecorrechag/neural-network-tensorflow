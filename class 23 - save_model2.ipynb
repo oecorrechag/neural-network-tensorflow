{
  "cells": [
    {
      "cell_type": "markdown",
      "metadata": {
        "id": "view-in-github",
        "colab_type": "text"
      },
      "source": [
        "<a href=\"https://colab.research.google.com/github/oecorrechag/neural-network-tensorflow/blob/main/class%2023%20-%20save_model2.ipynb\" target=\"_parent\"><img src=\"https://colab.research.google.com/assets/colab-badge.svg\" alt=\"Open In Colab\"/></a>"
      ]
    },
    {
      "cell_type": "markdown",
      "metadata": {
        "id": "8cEnogk33Pnm"
      },
      "source": [
        "# AIMS\n",
        "\n",
        "Ejemplo de red neuronal"
      ]
    },
    {
      "cell_type": "code",
      "execution_count": 1,
      "metadata": {
        "id": "QYVi9zX83Pnv"
      },
      "outputs": [],
      "source": [
        "%load_ext autoreload\n",
        "%autoreload 2"
      ]
    },
    {
      "cell_type": "code",
      "execution_count": 2,
      "metadata": {
        "id": "mcQvzFGR3Pnx"
      },
      "outputs": [],
      "source": [
        "import string\n",
        "import pandas as pd\n",
        "import time\n",
        "import zipfile\n",
        "%matplotlib inline\n",
        "import matplotlib.pyplot as plt\n",
        "import tensorflow as tf\n",
        "from tensorflow.keras.preprocessing.image import ImageDataGenerator\n",
        "from tensorflow.keras.callbacks import ModelCheckpoint\n",
        "\n",
        "pd.set_option('display.max_columns', None)\n",
        "pd.set_option('display.max_rows', None)\n",
        "import warnings\n",
        "warnings.filterwarnings(\"ignore\")"
      ]
    },
    {
      "cell_type": "markdown",
      "metadata": {
        "id": "mpWn4DMv3Pn3"
      },
      "source": [
        "## Cargar el train y test"
      ]
    },
    {
      "cell_type": "code",
      "execution_count": 3,
      "metadata": {
        "id": "MzajDqO44kbZ"
      },
      "outputs": [],
      "source": [
        "# !wget --no-check-certificate https://storage.googleapis.com/platzi-tf2/sign-language-img.zip \\\n",
        "#     -O sign-language-img.zip"
      ]
    },
    {
      "cell_type": "code",
      "execution_count": 4,
      "metadata": {
        "id": "BYh204B14khR"
      },
      "outputs": [],
      "source": [
        "# Descomprimimos\n",
        "local_zip = '/tmp/sign-language-img.zip'\n",
        "zip_ref = zipfile.ZipFile(local_zip, 'r')\n",
        "zip_ref.extractall('/tmp/sign-language-img')\n",
        "zip_ref.close()"
      ]
    },
    {
      "cell_type": "code",
      "execution_count": 5,
      "metadata": {
        "id": "-IY-u2ck3Pn5"
      },
      "outputs": [],
      "source": [
        "train_dir = \"/tmp/sign-language-img/Train\"\n",
        "test_dir = \"/tmp/sign-language-img/Test\""
      ]
    },
    {
      "cell_type": "markdown",
      "metadata": {
        "id": "f-NrQk2v3Pn7"
      },
      "source": [
        "## Data Generators"
      ]
    },
    {
      "cell_type": "code",
      "execution_count": 6,
      "metadata": {
        "id": "azhZ_av-3Pn8"
      },
      "outputs": [],
      "source": [
        "train_datagen = ImageDataGenerator(rescale = 1/255)\n",
        "test_datagen = ImageDataGenerator(rescale = 1/255, validation_split= 0.2)"
      ]
    },
    {
      "cell_type": "code",
      "execution_count": 7,
      "metadata": {
        "id": "mshEzAGY3Pn9",
        "colab": {
          "base_uri": "https://localhost:8080/"
        },
        "outputId": "ebdb53df-fafa-4719-80e5-1dabb99ffa26"
      },
      "outputs": [
        {
          "output_type": "stream",
          "name": "stdout",
          "text": [
            "Found 27455 images belonging to 24 classes.\n",
            "Found 1425 images belonging to 24 classes.\n",
            "Found 7172 images belonging to 24 classes.\n"
          ]
        }
      ],
      "source": [
        "train_generator = train_datagen.flow_from_directory(\n",
        "    train_dir,\n",
        "    target_size = (28, 28),\n",
        "    batch_size = 128,\n",
        "    class_mode = \"categorical\",\n",
        "    color_mode = \"grayscale\",\n",
        "    subset = \"training\"\n",
        ")\n",
        "\n",
        "validation_generator = test_datagen.flow_from_directory(\n",
        "    test_dir,\n",
        "    target_size = (28, 28),\n",
        "    batch_size = 128,\n",
        "    class_mode = \"categorical\",\n",
        "    color_mode = \"grayscale\",\n",
        "    subset = \"validation\"\n",
        ")\n",
        "\n",
        "test_generator = test_datagen.flow_from_directory(\n",
        "    test_dir,\n",
        "    target_size = (28, 28),\n",
        "    batch_size = 128,\n",
        "    class_mode = \"categorical\",\n",
        "    color_mode = \"grayscale\"\n",
        ")"
      ]
    },
    {
      "cell_type": "markdown",
      "metadata": {
        "id": "liFwNCxc3Pn-"
      },
      "source": [
        "## Definir las clases\n",
        "\n",
        "Recordar que hay dos letras que no tenemos J y Z"
      ]
    },
    {
      "cell_type": "code",
      "execution_count": 8,
      "metadata": {
        "id": "scVxMUH-3Pn_",
        "colab": {
          "base_uri": "https://localhost:8080/"
        },
        "outputId": "cef46612-463f-4a14-dc45-44e4c9f6ca67"
      },
      "outputs": [
        {
          "output_type": "execute_result",
          "data": {
            "text/plain": [
              "['A',\n",
              " 'B',\n",
              " 'C',\n",
              " 'D',\n",
              " 'E',\n",
              " 'F',\n",
              " 'G',\n",
              " 'H',\n",
              " 'I',\n",
              " 'K',\n",
              " 'L',\n",
              " 'M',\n",
              " 'N',\n",
              " 'O',\n",
              " 'P',\n",
              " 'Q',\n",
              " 'R',\n",
              " 'S',\n",
              " 'T',\n",
              " 'U',\n",
              " 'V',\n",
              " 'W',\n",
              " 'X',\n",
              " 'Y']"
            ]
          },
          "metadata": {},
          "execution_count": 8
        }
      ],
      "source": [
        "classes = [char for char in string.ascii_uppercase if char != \"J\" if char != \"Z\"]\n",
        "classes"
      ]
    },
    {
      "cell_type": "markdown",
      "metadata": {
        "id": "6ucYh_Oz3Pn_"
      },
      "source": [
        "## Generate model"
      ]
    },
    {
      "cell_type": "code",
      "execution_count": 9,
      "metadata": {
        "id": "0UUBJB8t7vU3"
      },
      "outputs": [],
      "source": [
        "def get_model():\n",
        "  model = tf.keras.models.Sequential([\n",
        "              tf.keras.layers.Flatten(input_shape= (28, 28, 1)),\n",
        "              tf.keras.layers.Dense(256, activation = \"relu\"),\n",
        "              tf.keras.layers.Dense(128, activation = \"relu\"),\n",
        "              tf.keras.layers.Dense(len(classes), activation = \"softmax\")\n",
        "  ])\n",
        "  return model"
      ]
    },
    {
      "cell_type": "code",
      "execution_count": 10,
      "metadata": {
        "id": "7gcQOoHW3Pn_",
        "colab": {
          "base_uri": "https://localhost:8080/"
        },
        "outputId": "261c518c-348e-4303-a548-1fee57b696c0"
      },
      "outputs": [
        {
          "output_type": "stream",
          "name": "stdout",
          "text": [
            "Model: \"sequential\"\n",
            "_________________________________________________________________\n",
            " Layer (type)                Output Shape              Param #   \n",
            "=================================================================\n",
            " flatten (Flatten)           (None, 784)               0         \n",
            "                                                                 \n",
            " dense (Dense)               (None, 256)               200960    \n",
            "                                                                 \n",
            " dense_1 (Dense)             (None, 128)               32896     \n",
            "                                                                 \n",
            " dense_2 (Dense)             (None, 24)                3096      \n",
            "                                                                 \n",
            "=================================================================\n",
            "Total params: 236,952\n",
            "Trainable params: 236,952\n",
            "Non-trainable params: 0\n",
            "_________________________________________________________________\n"
          ]
        }
      ],
      "source": [
        "model_base = get_model()\n",
        "model_base.summary()"
      ]
    },
    {
      "cell_type": "markdown",
      "metadata": {
        "id": "SnW64K-H3PoA"
      },
      "source": [
        "## Training\n",
        "\n",
        "Entrenemos durante 20 épocas. Esto puede tardar unos minutos en ejecutarse."
      ]
    },
    {
      "cell_type": "code",
      "execution_count": 11,
      "metadata": {
        "id": "qOYfeeVZ3PoA"
      },
      "outputs": [],
      "source": [
        "model_base.compile(optimizer = \"adam\", loss = \"categorical_crossentropy\", metrics = ['accuracy'])"
      ]
    },
    {
      "cell_type": "code",
      "execution_count": 12,
      "metadata": {
        "id": "ddVX0shX3PoA",
        "colab": {
          "base_uri": "https://localhost:8080/"
        },
        "outputId": "3d43d8c6-a7d1-452c-9e29-30dcf3870e87"
      },
      "outputs": [
        {
          "output_type": "stream",
          "name": "stdout",
          "text": [
            "Epoch 1/20\n",
            "215/215 [==============================] - 11s 49ms/step - loss: 2.2425 - accuracy: 0.3400 - val_loss: 1.6923 - val_accuracy: 0.4632\n",
            "Epoch 2/20\n",
            "215/215 [==============================] - 9s 40ms/step - loss: 1.2407 - accuracy: 0.6311 - val_loss: 1.3722 - val_accuracy: 0.5768\n",
            "Epoch 3/20\n",
            "215/215 [==============================] - 9s 40ms/step - loss: 0.8852 - accuracy: 0.7311 - val_loss: 1.2003 - val_accuracy: 0.6253\n",
            "Epoch 4/20\n",
            "215/215 [==============================] - 10s 45ms/step - loss: 0.6728 - accuracy: 0.7994 - val_loss: 1.1745 - val_accuracy: 0.6288\n",
            "Epoch 5/20\n",
            "215/215 [==============================] - 9s 43ms/step - loss: 0.5099 - accuracy: 0.8554 - val_loss: 1.1017 - val_accuracy: 0.6547\n",
            "Epoch 6/20\n",
            "215/215 [==============================] - 9s 42ms/step - loss: 0.4108 - accuracy: 0.8825 - val_loss: 0.9625 - val_accuracy: 0.7074\n",
            "Epoch 7/20\n",
            "215/215 [==============================] - 8s 39ms/step - loss: 0.3297 - accuracy: 0.9084 - val_loss: 1.0222 - val_accuracy: 0.7165\n",
            "Epoch 8/20\n",
            "215/215 [==============================] - 10s 44ms/step - loss: 0.2460 - accuracy: 0.9373 - val_loss: 1.0125 - val_accuracy: 0.7291\n",
            "Epoch 9/20\n",
            "215/215 [==============================] - 10s 44ms/step - loss: 0.1921 - accuracy: 0.9542 - val_loss: 1.0204 - val_accuracy: 0.7081\n",
            "Epoch 10/20\n",
            "215/215 [==============================] - 9s 43ms/step - loss: 0.1510 - accuracy: 0.9670 - val_loss: 1.0792 - val_accuracy: 0.7361\n",
            "Epoch 11/20\n",
            "215/215 [==============================] - 8s 39ms/step - loss: 0.1344 - accuracy: 0.9700 - val_loss: 1.0410 - val_accuracy: 0.7488\n",
            "Epoch 12/20\n",
            "215/215 [==============================] - 9s 42ms/step - loss: 0.0846 - accuracy: 0.9879 - val_loss: 1.0270 - val_accuracy: 0.7502\n",
            "Epoch 13/20\n",
            "215/215 [==============================] - 9s 44ms/step - loss: 0.0733 - accuracy: 0.9887 - val_loss: 1.0657 - val_accuracy: 0.7516\n",
            "Epoch 14/20\n",
            "215/215 [==============================] - 10s 45ms/step - loss: 0.0560 - accuracy: 0.9938 - val_loss: 1.1261 - val_accuracy: 0.7263\n",
            "Epoch 15/20\n",
            "215/215 [==============================] - 9s 44ms/step - loss: 0.0547 - accuracy: 0.9919 - val_loss: 1.1379 - val_accuracy: 0.7523\n",
            "Epoch 16/20\n",
            "215/215 [==============================] - 9s 40ms/step - loss: 0.0328 - accuracy: 0.9977 - val_loss: 1.2309 - val_accuracy: 0.7432\n",
            "Epoch 17/20\n",
            "215/215 [==============================] - 9s 42ms/step - loss: 0.0296 - accuracy: 0.9977 - val_loss: 1.2100 - val_accuracy: 0.7432\n",
            "Epoch 18/20\n",
            "215/215 [==============================] - 9s 44ms/step - loss: 0.0213 - accuracy: 0.9991 - val_loss: 1.2710 - val_accuracy: 0.7614\n",
            "Epoch 19/20\n",
            "215/215 [==============================] - 10s 45ms/step - loss: 0.0188 - accuracy: 0.9988 - val_loss: 1.2788 - val_accuracy: 0.7593\n",
            "Epoch 20/20\n",
            "215/215 [==============================] - 10s 44ms/step - loss: 0.0787 - accuracy: 0.9751 - val_loss: 1.3756 - val_accuracy: 0.7305\n"
          ]
        }
      ],
      "source": [
        "inicio = time.time()\n",
        "\n",
        "history = model_base.fit(\n",
        "    train_generator,\n",
        "    epochs= 10,\n",
        "    validation_data = validation_generator\n",
        ")\n",
        "\n",
        "fin = time.time()"
      ]
    },
    {
      "cell_type": "code",
      "execution_count": 13,
      "metadata": {
        "id": "TYYnhZsL3PoB",
        "colab": {
          "base_uri": "https://localhost:8080/"
        },
        "outputId": "7092412c-0872-441a-f27c-1b86a8c759f9"
      },
      "outputs": [
        {
          "output_type": "stream",
          "name": "stdout",
          "text": [
            "211.50948214530945\n"
          ]
        }
      ],
      "source": [
        "print(fin - inicio)"
      ]
    },
    {
      "cell_type": "markdown",
      "metadata": {
        "id": "kcs-K6NC3PoB"
      },
      "source": [
        "## Testing"
      ]
    },
    {
      "cell_type": "code",
      "execution_count": 14,
      "metadata": {
        "id": "obB53yq23PoB",
        "colab": {
          "base_uri": "https://localhost:8080/"
        },
        "outputId": "90650fbb-f0f2-4f0d-a848-97a3896518df"
      },
      "outputs": [
        {
          "output_type": "stream",
          "name": "stdout",
          "text": [
            "57/57 [==============================] - 2s 36ms/step - loss: 1.3061 - accuracy: 0.7355\n"
          ]
        }
      ],
      "source": [
        "results = model_base.evaluate(test_generator)"
      ]
    },
    {
      "cell_type": "markdown",
      "metadata": {
        "id": "qxBSZxwG3PoB"
      },
      "source": [
        "## Summary model"
      ]
    },
    {
      "cell_type": "code",
      "execution_count": 15,
      "metadata": {
        "id": "NzMjFXkx3PoC"
      },
      "outputs": [],
      "source": [
        "def visualizacion_resultados(history):\n",
        "    epochs = [i for i in range(20)]\n",
        "    fig, ax = plt.subplots(1,2)\n",
        "    train_acc = history.history[\"accuracy\"]\n",
        "    train_loss = history.history[\"loss\"]\n",
        "    val_acc = history.history[\"val_accuracy\"]\n",
        "    val_loss = history.history[\"val_loss\"]\n",
        "    fig.set_size_inches(16, 9)\n",
        "\n",
        "    ax[0].plot(epochs, train_acc, \"go-\", label =\" Entrenamiento accuracy\")\n",
        "    ax[0].plot(epochs, val_acc, \"ro-\", label= \"Validacion accuracy\")\n",
        "    ax[0].set_title(\"Entrenamiento & validación accuracy\")\n",
        "    ax[0].legend()\n",
        "    ax[0].set_xlabel(\"Epochs\")\n",
        "    ax[0].set_ylabel(\"Accuracy\")\n",
        "\n",
        "    ax[1].plot(epochs, train_loss, \"go-\", label =\" Entrenamiento Loss\")\n",
        "    ax[1].plot(epochs, val_loss, \"ro-\", label= \"Validacion Loss\")\n",
        "    ax[1].set_title(\"Entrenamiento & validación Loss\")\n",
        "    ax[1].legend()\n",
        "    ax[1].set_xlabel(\"Epochs\")\n",
        "    ax[1].set_ylabel(\"Loss\")\n",
        "\n",
        "    plt.show()"
      ]
    },
    {
      "cell_type": "code",
      "execution_count": 16,
      "metadata": {
        "id": "iMz_k4kg3PoC",
        "colab": {
          "base_uri": "https://localhost:8080/",
          "height": 629
        },
        "outputId": "c641db95-edc8-41d0-f23f-af461aea7e17"
      },
      "outputs": [
        {
          "output_type": "display_data",
          "data": {
            "text/plain": [
              "<Figure size 1600x900 with 2 Axes>"
            ],
            "image/png": "[encoded data removed]"
          },
          "metadata": {}
        }
      ],
      "source": [
        "visualizacion_resultados(history)"
      ]
    },
    {
      "cell_type": "markdown",
      "metadata": {
        "id": "sc_Ll6uG7vU6"
      },
      "source": [
        "### Save architecture and weights"
      ]
    },
    {
      "cell_type": "code",
      "execution_count": 17,
      "metadata": {
        "colab": {
          "base_uri": "https://localhost:8080/"
        },
        "id": "2begaO3i7vU6",
        "outputId": "4abda56f-e003-4e3f-d3dd-4c280b134761"
      },
      "outputs": [
        {
          "output_type": "execute_result",
          "data": {
            "text/plain": [
              "{'name': 'sequential',\n",
              " 'layers': [{'class_name': 'InputLayer',\n",
              "   'config': {'batch_input_shape': (None, 28, 28, 1),\n",
              "    'dtype': 'float32',\n",
              "    'sparse': False,\n",
              "    'ragged': False,\n",
              "    'name': 'flatten_input'}},\n",
              "  {'class_name': 'Flatten',\n",
              "   'config': {'name': 'flatten',\n",
              "    'trainable': True,\n",
              "    'dtype': 'float32',\n",
              "    'batch_input_shape': (None, 28, 28, 1),\n",
              "    'data_format': 'channels_last'}},\n",
              "  {'class_name': 'Dense',\n",
              "   'config': {'name': 'dense',\n",
              "    'trainable': True,\n",
              "    'dtype': 'float32',\n",
              "    'units': 256,\n",
              "    'activation': 'relu',\n",
              "    'use_bias': True,\n",
              "    'kernel_initializer': {'class_name': 'GlorotUniform',\n",
              "     'config': {'seed': None}},\n",
              "    'bias_initializer': {'class_name': 'Zeros', 'config': {}},\n",
              "    'kernel_regularizer': None,\n",
              "    'bias_regularizer': None,\n",
              "    'activity_regularizer': None,\n",
              "    'kernel_constraint': None,\n",
              "    'bias_constraint': None}},\n",
              "  {'class_name': 'Dense',\n",
              "   'config': {'name': 'dense_1',\n",
              "    'trainable': True,\n",
              "    'dtype': 'float32',\n",
              "    'units': 128,\n",
              "    'activation': 'relu',\n",
              "    'use_bias': True,\n",
              "    'kernel_initializer': {'class_name': 'GlorotUniform',\n",
              "     'config': {'seed': None}},\n",
              "    'bias_initializer': {'class_name': 'Zeros', 'config': {}},\n",
              "    'kernel_regularizer': None,\n",
              "    'bias_regularizer': None,\n",
              "    'activity_regularizer': None,\n",
              "    'kernel_constraint': None,\n",
              "    'bias_constraint': None}},\n",
              "  {'class_name': 'Dense',\n",
              "   'config': {'name': 'dense_2',\n",
              "    'trainable': True,\n",
              "    'dtype': 'float32',\n",
              "    'units': 24,\n",
              "    'activation': 'softmax',\n",
              "    'use_bias': True,\n",
              "    'kernel_initializer': {'class_name': 'GlorotUniform',\n",
              "     'config': {'seed': None}},\n",
              "    'bias_initializer': {'class_name': 'Zeros', 'config': {}},\n",
              "    'kernel_regularizer': None,\n",
              "    'bias_regularizer': None,\n",
              "    'activity_regularizer': None,\n",
              "    'kernel_constraint': None,\n",
              "    'bias_constraint': None}}]}"
            ]
          },
          "metadata": {},
          "execution_count": 17
        }
      ],
      "source": [
        "config_dict = model_base.get_config()\n",
        "config_dict"
      ]
    },
    {
      "cell_type": "markdown",
      "metadata": {
        "id": "ji8HZmfr7vU6"
      },
      "source": [
        "### Load architecture and weights"
      ]
    },
    {
      "cell_type": "code",
      "source": [
        "checkpoint_path = \"model_checpoints_complete\"\n",
        "checkpoint_weighs= ModelCheckpoint(\n",
        "    filepath = checkpoint_path,\n",
        "    frecuency = \"epoch\",\n",
        "    save_weights_only = False,\n",
        "    monitor = \"val_accuracy\",\n",
        "    save_best_only = True,\n",
        "    verbose = 1\n",
        ")"
      ],
      "metadata": {
        "id": "NY4N3y-jCwG1"
      },
      "execution_count": 29,
      "outputs": []
    },
    {
      "cell_type": "code",
      "source": [
        "model_complete = get_model()\n",
        "model_complete.compile(optimizer = \"adam\", loss = \"categorical_crossentropy\", metrics = [\"accuracy\"])\n",
        "\n",
        "history_complete = model_complete.fit(\n",
        "    train_generator,\n",
        "    epochs = 10,\n",
        "    callbacks = [checkpoint_weighs],\n",
        "    validation_data = validation_generator\n",
        ")"
      ],
      "metadata": {
        "colab": {
          "base_uri": "https://localhost:8080/"
        },
        "id": "RhLJiqADCwKE",
        "outputId": "616e3256-439d-45c3-ba74-1329eecca1b4"
      },
      "execution_count": 30,
      "outputs": [
        {
          "output_type": "stream",
          "name": "stdout",
          "text": [
            "Epoch 1/10\n",
            "214/215 [============================>.] - ETA: 0s - loss: 2.1896 - accuracy: 0.3541\n",
            "Epoch 1: val_accuracy improved from -inf to 0.49614, saving model to model_checpoints_complete\n"
          ]
        },
        {
          "output_type": "stream",
          "name": "stderr",
          "text": [
            "WARNING:absl:Found untraced functions such as _update_step_xla while saving (showing 1 of 1). These functions will not be directly callable after loading.\n"
          ]
        },
        {
          "output_type": "stream",
          "name": "stdout",
          "text": [
            "\b\b\b\b\b\b\b\b\b\b\b\b\b\b\b\b\b\b\b\b\b\b\b\b\b\b\b\b\b\b\b\b\b\b\b\b\b\b\b\b\b\b\b\b\b\b\b\b\b\b\b\b\b\b\b\b\b\b\b\b\b\b\b\b\b\b\b\b\b\b\b\b\b\b\b\b\b\b\b\b\b\b\b\b\r215/215 [==============================] - 11s 48ms/step - loss: 2.1862 - accuracy: 0.3551 - val_loss: 1.6868 - val_accuracy: 0.4961\n",
            "Epoch 2/10\n",
            "214/215 [============================>.] - ETA: 0s - loss: 1.2425 - accuracy: 0.6154\n",
            "Epoch 2: val_accuracy improved from 0.49614 to 0.59930, saving model to model_checpoints_complete\n"
          ]
        },
        {
          "output_type": "stream",
          "name": "stderr",
          "text": [
            "WARNING:absl:Found untraced functions such as _update_step_xla while saving (showing 1 of 1). These functions will not be directly callable after loading.\n"
          ]
        },
        {
          "output_type": "stream",
          "name": "stdout",
          "text": [
            "\b\b\b\b\b\b\b\b\b\b\b\b\b\b\b\b\b\b\b\b\b\b\b\b\b\b\b\b\b\b\b\b\b\b\b\b\b\b\b\b\b\b\b\b\b\b\b\b\b\b\b\b\b\b\b\b\b\b\b\b\b\b\b\b\b\b\b\b\b\b\b\b\b\b\b\b\b\b\b\b\b\b\b\b\r215/215 [==============================] - 11s 50ms/step - loss: 1.2415 - accuracy: 0.6156 - val_loss: 1.2881 - val_accuracy: 0.5993\n",
            "Epoch 3/10\n",
            "214/215 [============================>.] - ETA: 0s - loss: 0.8957 - accuracy: 0.7213\n",
            "Epoch 3: val_accuracy improved from 0.59930 to 0.62246, saving model to model_checpoints_complete\n"
          ]
        },
        {
          "output_type": "stream",
          "name": "stderr",
          "text": [
            "WARNING:absl:Found untraced functions such as _update_step_xla while saving (showing 1 of 1). These functions will not be directly callable after loading.\n"
          ]
        },
        {
          "output_type": "stream",
          "name": "stdout",
          "text": [
            "\b\b\b\b\b\b\b\b\b\b\b\b\b\b\b\b\b\b\b\b\b\b\b\b\b\b\b\b\b\b\b\b\b\b\b\b\b\b\b\b\b\b\b\b\b\b\b\b\b\b\b\b\b\b\b\b\b\b\b\b\b\b\b\b\b\b\b\b\b\b\b\b\b\b\b\b\b\b\b\b\b\b\b\b\r215/215 [==============================] - 10s 47ms/step - loss: 0.8950 - accuracy: 0.7214 - val_loss: 1.1714 - val_accuracy: 0.6225\n",
            "Epoch 4/10\n",
            "214/215 [============================>.] - ETA: 0s - loss: 0.6759 - accuracy: 0.7923\n",
            "Epoch 4: val_accuracy improved from 0.62246 to 0.68351, saving model to model_checpoints_complete\n"
          ]
        },
        {
          "output_type": "stream",
          "name": "stderr",
          "text": [
            "WARNING:absl:Found untraced functions such as _update_step_xla while saving (showing 1 of 1). These functions will not be directly callable after loading.\n"
          ]
        },
        {
          "output_type": "stream",
          "name": "stdout",
          "text": [
            "\b\b\b\b\b\b\b\b\b\b\b\b\b\b\b\b\b\b\b\b\b\b\b\b\b\b\b\b\b\b\b\b\b\b\b\b\b\b\b\b\b\b\b\b\b\b\b\b\b\b\b\b\b\b\b\b\b\b\b\b\b\b\b\b\b\b\b\b\b\b\b\b\b\b\b\b\b\b\b\b\b\b\b\b\r215/215 [==============================] - 12s 57ms/step - loss: 0.6761 - accuracy: 0.7921 - val_loss: 1.0382 - val_accuracy: 0.6835\n",
            "Epoch 5/10\n",
            "215/215 [==============================] - ETA: 0s - loss: 0.5288 - accuracy: 0.8411\n",
            "Epoch 5: val_accuracy did not improve from 0.68351\n",
            "215/215 [==============================] - 10s 45ms/step - loss: 0.5288 - accuracy: 0.8411 - val_loss: 1.0289 - val_accuracy: 0.6730\n",
            "Epoch 6/10\n",
            "214/215 [============================>.] - ETA: 0s - loss: 0.4083 - accuracy: 0.8819\n",
            "Epoch 6: val_accuracy improved from 0.68351 to 0.71088, saving model to model_checpoints_complete\n"
          ]
        },
        {
          "output_type": "stream",
          "name": "stderr",
          "text": [
            "WARNING:absl:Found untraced functions such as _update_step_xla while saving (showing 1 of 1). These functions will not be directly callable after loading.\n"
          ]
        },
        {
          "output_type": "stream",
          "name": "stdout",
          "text": [
            "\b\b\b\b\b\b\b\b\b\b\b\b\b\b\b\b\b\b\b\b\b\b\b\b\b\b\b\b\b\b\b\b\b\b\b\b\b\b\b\b\b\b\b\b\b\b\b\b\b\b\b\b\b\b\b\b\b\b\b\b\b\b\b\b\b\b\b\b\b\b\b\b\b\b\b\b\b\b\b\b\b\b\b\b\r215/215 [==============================] - 12s 55ms/step - loss: 0.4079 - accuracy: 0.8821 - val_loss: 0.9851 - val_accuracy: 0.7109\n",
            "Epoch 7/10\n",
            "214/215 [============================>.] - ETA: 0s - loss: 0.3096 - accuracy: 0.9149\n",
            "Epoch 7: val_accuracy improved from 0.71088 to 0.71158, saving model to model_checpoints_complete\n"
          ]
        },
        {
          "output_type": "stream",
          "name": "stderr",
          "text": [
            "WARNING:absl:Found untraced functions such as _update_step_xla while saving (showing 1 of 1). These functions will not be directly callable after loading.\n"
          ]
        },
        {
          "output_type": "stream",
          "name": "stdout",
          "text": [
            "\b\b\b\b\b\b\b\b\b\b\b\b\b\b\b\b\b\b\b\b\b\b\b\b\b\b\b\b\b\b\b\b\b\b\b\b\b\b\b\b\b\b\b\b\b\b\b\b\b\b\b\b\b\b\b\b\b\b\b\b\b\b\b\b\b\b\b\b\b\b\b\b\b\b\b\b\b\b\b\b\b\b\b\b\r215/215 [==============================] - 10s 47ms/step - loss: 0.3100 - accuracy: 0.9148 - val_loss: 0.9519 - val_accuracy: 0.7116\n",
            "Epoch 8/10\n",
            "215/215 [==============================] - ETA: 0s - loss: 0.2309 - accuracy: 0.9429\n",
            "Epoch 8: val_accuracy improved from 0.71158 to 0.71860, saving model to model_checpoints_complete\n"
          ]
        },
        {
          "output_type": "stream",
          "name": "stderr",
          "text": [
            "WARNING:absl:Found untraced functions such as _update_step_xla while saving (showing 1 of 1). These functions will not be directly callable after loading.\n"
          ]
        },
        {
          "output_type": "stream",
          "name": "stdout",
          "text": [
            "\b\b\b\b\b\b\b\b\b\b\b\b\b\b\b\b\b\b\b\b\b\b\b\b\b\b\b\b\b\b\b\b\b\b\b\b\b\b\b\b\b\b\b\b\b\b\b\b\b\b\b\b\b\b\b\b\b\b\b\b\b\b\b\b\b\b\b\b\b\b\b\b\b\b\b\b\b\b\b\b\b\b\b\b\r215/215 [==============================] - 10s 45ms/step - loss: 0.2309 - accuracy: 0.9429 - val_loss: 0.9538 - val_accuracy: 0.7186\n",
            "Epoch 9/10\n",
            "214/215 [============================>.] - ETA: 0s - loss: 0.1842 - accuracy: 0.9563\n",
            "Epoch 9: val_accuracy improved from 0.71860 to 0.73333, saving model to model_checpoints_complete\n"
          ]
        },
        {
          "output_type": "stream",
          "name": "stderr",
          "text": [
            "WARNING:absl:Found untraced functions such as _update_step_xla while saving (showing 1 of 1). These functions will not be directly callable after loading.\n"
          ]
        },
        {
          "output_type": "stream",
          "name": "stdout",
          "text": [
            "\b\b\b\b\b\b\b\b\b\b\b\b\b\b\b\b\b\b\b\b\b\b\b\b\b\b\b\b\b\b\b\b\b\b\b\b\b\b\b\b\b\b\b\b\b\b\b\b\b\b\b\b\b\b\b\b\b\b\b\b\b\b\b\b\b\b\b\b\b\b\b\b\b\b\b\b\b\b\b\b\b\b\b\b\r215/215 [==============================] - 11s 51ms/step - loss: 0.1839 - accuracy: 0.9565 - val_loss: 0.9642 - val_accuracy: 0.7333\n",
            "Epoch 10/10\n",
            "215/215 [==============================] - ETA: 0s - loss: 0.1313 - accuracy: 0.9743\n",
            "Epoch 10: val_accuracy did not improve from 0.73333\n",
            "215/215 [==============================] - 13s 63ms/step - loss: 0.1313 - accuracy: 0.9743 - val_loss: 1.0764 - val_accuracy: 0.7004\n"
          ]
        }
      ]
    },
    {
      "cell_type": "markdown",
      "source": [
        "### Almacenar infraestructura y peso manual"
      ],
      "metadata": {
        "id": "Ol8A9DizDHr5"
      }
    },
    {
      "cell_type": "code",
      "source": [
        "model_complete.save(\"saved_model_complete/mymodel\")"
      ],
      "metadata": {
        "colab": {
          "base_uri": "https://localhost:8080/"
        },
        "id": "4RIFhIwCCwND",
        "outputId": "5ad2627d-0e8b-406a-e657-32bfe731e3d7"
      },
      "execution_count": 31,
      "outputs": [
        {
          "output_type": "stream",
          "name": "stderr",
          "text": [
            "WARNING:absl:Found untraced functions such as _update_step_xla while saving (showing 1 of 1). These functions will not be directly callable after loading.\n"
          ]
        }
      ]
    },
    {
      "cell_type": "markdown",
      "source": [
        "## Cargamos nuestro modelo completo"
      ],
      "metadata": {
        "id": "pNZTqv98DUUy"
      }
    },
    {
      "cell_type": "code",
      "source": [
        "model_complete3 = tf.keras.models.load_model(\"saved_model_complete/mymodel\")"
      ],
      "metadata": {
        "id": "hTm4W6RBDJ4g"
      },
      "execution_count": 32,
      "outputs": []
    },
    {
      "cell_type": "code",
      "source": [
        "model_complete3.evaluate(test_generator)"
      ],
      "metadata": {
        "colab": {
          "base_uri": "https://localhost:8080/"
        },
        "id": "OEzuxdJsDJ75",
        "outputId": "50702f67-ebd5-427e-99cf-723b1531608c"
      },
      "execution_count": 33,
      "outputs": [
        {
          "output_type": "stream",
          "name": "stdout",
          "text": [
            "57/57 [==============================] - 2s 35ms/step - loss: 0.9997 - accuracy: 0.7157\n"
          ]
        },
        {
          "output_type": "execute_result",
          "data": {
            "text/plain": [
              "[0.9996505975723267, 0.7156999707221985]"
            ]
          },
          "metadata": {},
          "execution_count": 33
        }
      ]
    },
    {
      "cell_type": "code",
      "source": [
        "model_complete.evaluate(test_generator)"
      ],
      "metadata": {
        "colab": {
          "base_uri": "https://localhost:8080/"
        },
        "id": "cujx2KmHDJ-q",
        "outputId": "11a8812f-ef36-4c23-ccc0-e8f582662677"
      },
      "execution_count": 34,
      "outputs": [
        {
          "output_type": "stream",
          "name": "stdout",
          "text": [
            "57/57 [==============================] - 2s 42ms/step - loss: 0.9997 - accuracy: 0.7157\n"
          ]
        },
        {
          "output_type": "execute_result",
          "data": {
            "text/plain": [
              "[0.9996505975723267, 0.7156999707221985]"
            ]
          },
          "metadata": {},
          "execution_count": 34
        }
      ]
    },
    {
      "cell_type": "markdown",
      "source": [
        "## Usar el formato .h5"
      ],
      "metadata": {
        "id": "bGKL5r88DhJB"
      }
    },
    {
      "cell_type": "code",
      "source": [
        "# !pip install pyyaml h5py"
      ],
      "metadata": {
        "id": "gS3xjI0nDKB1"
      },
      "execution_count": null,
      "outputs": []
    },
    {
      "cell_type": "code",
      "source": [
        "model_complete3.save(\"my_model.h5\")"
      ],
      "metadata": {
        "id": "amSSsrtjDotT"
      },
      "execution_count": 35,
      "outputs": []
    },
    {
      "cell_type": "code",
      "source": [
        "model_complete4 = tf.keras.models.load_model(\"my_model.h5\")\n",
        "model_complete4.summary()"
      ],
      "metadata": {
        "colab": {
          "base_uri": "https://localhost:8080/"
        },
        "id": "6F9aiRHkDow5",
        "outputId": "708874a0-e010-4a0d-a862-eaf8330549b9"
      },
      "execution_count": 40,
      "outputs": [
        {
          "output_type": "stream",
          "name": "stdout",
          "text": [
            "Model: \"sequential_3\"\n",
            "_________________________________________________________________\n",
            " Layer (type)                Output Shape              Param #   \n",
            "=================================================================\n",
            " flatten_3 (Flatten)         (None, 784)               0         \n",
            "                                                                 \n",
            " dense_9 (Dense)             (None, 256)               200960    \n",
            "                                                                 \n",
            " dense_10 (Dense)            (None, 128)               32896     \n",
            "                                                                 \n",
            " dense_11 (Dense)            (None, 24)                3096      \n",
            "                                                                 \n",
            "=================================================================\n",
            "Total params: 236,952\n",
            "Trainable params: 236,952\n",
            "Non-trainable params: 0\n",
            "_________________________________________________________________\n"
          ]
        }
      ]
    },
    {
      "cell_type": "code",
      "execution_count": 28,
      "metadata": {
        "id": "LBDqa6Ye3PoD",
        "colab": {
          "base_uri": "https://localhost:8080/"
        },
        "outputId": "8f36efe7-8da8-46b8-88a2-40f48b4bd034"
      },
      "outputs": [
        {
          "output_type": "stream",
          "name": "stdout",
          "text": [
            "Ok_\n"
          ]
        }
      ],
      "source": [
        "print('Ok_')"
      ]
    }
  ],
  "metadata": {
    "colab": {
      "provenance": [],
      "include_colab_link": true
    },
    "kernelspec": {
      "display_name": "Python 3",
      "language": "python",
      "name": "python3"
    },
    "language_info": {
      "codemirror_mode": {
        "name": "ipython",
        "version": 3
      },
      "file_extension": ".py",
      "mimetype": "text/x-python",
      "name": "python",
      "nbconvert_exporter": "python",
      "pygments_lexer": "ipython3",
      "version": "3.11.4"
    },
    "orig_nbformat": 4
  },
  "nbformat": 4,
  "nbformat_minor": 0
}