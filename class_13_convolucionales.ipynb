{
  "nbformat": 4,
  "nbformat_minor": 0,
  "metadata": {
    "colab": {
      "provenance": [],
      "authorship_tag": "ABX9TyMA0U2HyM/JeMNyj1euyhN2",
      "include_colab_link": true
    },
    "kernelspec": {
      "name": "python3",
      "display_name": "Python 3"
    },
    "language_info": {
      "name": "python"
    }
  },
  "cells": [
    {
      "cell_type": "markdown",
      "metadata": {
        "id": "view-in-github",
        "colab_type": "text"
      },
      "source": [
        "<a href=\"https://colab.research.google.com/github/oecorrechag/neural-network-tensorflow/blob/main/class_13_convolucionales.ipynb\" target=\"_parent\"><img src=\"https://colab.research.google.com/assets/colab-badge.svg\" alt=\"Open In Colab\"/></a>"
      ]
    },
    {
      "cell_type": "markdown",
      "source": [
        "# AIMS\n",
        "\n",
        "Recomendaciones"
      ],
      "metadata": {
        "id": "NVEz7CAW_q-v"
      }
    },
    {
      "cell_type": "code",
      "source": [
        "%load_ext autoreload\n",
        "%autoreload 2"
      ],
      "metadata": {
        "id": "PO3veIcS_sVM"
      },
      "execution_count": null,
      "outputs": []
    },
    {
      "cell_type": "code",
      "source": [
        "import string\n",
        "import pandas as pd\n",
        "import time\n",
        "import zipfile\n",
        "%matplotlib inline\n",
        "import matplotlib.pyplot as plt\n",
        "import tensorflow as tf\n",
        "from tensorflow.keras import regularizers\n",
        "from tensorflow.keras.preprocessing.image import ImageDataGenerator\n",
        "\n",
        "pd.set_option('display.max_columns', None)\n",
        "pd.set_option('display.max_rows', None)\n",
        "import warnings\n",
        "warnings.filterwarnings(\"ignore\")"
      ],
      "metadata": {
        "id": "vPuc4GOB_sYm"
      },
      "execution_count": null,
      "outputs": []
    },
    {
      "cell_type": "markdown",
      "source": [
        "## Cargar el train y test"
      ],
      "metadata": {
        "id": "Jqc0nxJG_zYc"
      }
    },
    {
      "cell_type": "code",
      "source": [
        "# !wget --no-check-certificate https://storage.googleapis.com/platzi-tf2/sign-language-img.zip \\\n",
        "#     -O sign-language-img.zip"
      ],
      "metadata": {
        "id": "C6SJzYfj_sbf"
      },
      "execution_count": null,
      "outputs": []
    },
    {
      "cell_type": "code",
      "source": [
        "# Descomprimimos\n",
        "local_zip = '/tmp/sign-language-img.zip'\n",
        "zip_ref = zipfile.ZipFile(local_zip, 'r')\n",
        "zip_ref.extractall('/tmp/sign-language-img')\n",
        "zip_ref.close()"
      ],
      "metadata": {
        "id": "-Phh21-7_seH"
      },
      "execution_count": null,
      "outputs": []
    },
    {
      "cell_type": "code",
      "source": [
        "train_dir = \"/tmp/sign-language-img/Train\"\n",
        "test_dir = \"/tmp/sign-language-img/Test\""
      ],
      "metadata": {
        "id": "Kzd18hG4_shP"
      },
      "execution_count": null,
      "outputs": []
    },
    {
      "cell_type": "markdown",
      "source": [
        "## Data Generators"
      ],
      "metadata": {
        "id": "iu7gR92XAEKj"
      }
    },
    {
      "cell_type": "code",
      "source": [
        "train_datagen = ImageDataGenerator(rescale = 1/255)\n",
        "test_datagen = ImageDataGenerator(rescale = 1/255, validation_split= 0.2)"
      ],
      "metadata": {
        "id": "wVN8YZ69_6Fd"
      },
      "execution_count": null,
      "outputs": []
    },
    {
      "cell_type": "code",
      "source": [
        "train_generator = train_datagen.flow_from_directory(\n",
        "    train_dir,\n",
        "    target_size = (28, 28),\n",
        "    batch_size = 128,\n",
        "    class_mode = \"categorical\",\n",
        "    color_mode = \"grayscale\",\n",
        "    subset = \"training\"\n",
        ")\n",
        "\n",
        "validation_generator = test_datagen.flow_from_directory(\n",
        "    test_dir,\n",
        "    target_size = (28, 28),\n",
        "    batch_size = 128,\n",
        "    class_mode = \"categorical\",\n",
        "    color_mode = \"grayscale\",\n",
        "    subset = \"validation\"\n",
        ")\n",
        "\n",
        "test_generator = test_datagen.flow_from_directory(\n",
        "    test_dir,\n",
        "    target_size = (28, 28),\n",
        "    batch_size = 128,\n",
        "    class_mode = \"categorical\",\n",
        "    color_mode = \"grayscale\"\n",
        ")"
      ],
      "metadata": {
        "id": "DX3ZsaOV_6If"
      },
      "execution_count": null,
      "outputs": []
    },
    {
      "cell_type": "markdown",
      "source": [
        "## Definir las clases\n",
        "\n",
        "Recordar que hay dos letras que no tenemos J y Z"
      ],
      "metadata": {
        "id": "px9cFD9HAKC0"
      }
    },
    {
      "cell_type": "code",
      "source": [
        "classes = [char for char in string.ascii_uppercase if char != \"J\" if char != \"Z\"]\n",
        "classes"
      ],
      "metadata": {
        "id": "VCNClq4q_6Lj"
      },
      "execution_count": null,
      "outputs": []
    },
    {
      "cell_type": "markdown",
      "source": [
        "## Generate model"
      ],
      "metadata": {
        "id": "yug2XRWQAOu-"
      }
    },
    {
      "cell_type": "code",
      "source": [
        "model_convolutional = tf.keras.models.Sequential([\n",
        "              tf.keras.layers.Conv2D(75, (3,3), activation = \"relu\", input_shape= (28, 28, 1)),\n",
        "              tf.keras.layers.MaxPool2D((2,2)),\n",
        "              tf.keras.layers.Flatten(),\n",
        "              tf.keras.layers.Dense(256, kernel_regularizer = regularizers.l2(1e-5), activation = \"relu\"),\n",
        "              tf.keras.layers.Dropout(0.2),\n",
        "              tf.keras.layers.Dense(128, kernel_regularizer= regularizers.l2(1e-5),activation = \"relu\"),\n",
        "              tf.keras.layers.Dropout(0.2),\n",
        "              tf.keras.layers.Dense(len(classes), activation = \"softmax\")\n",
        "])\n",
        "\n",
        "model_convolutional.summary()"
      ],
      "metadata": {
        "id": "-U5OlbuIAMk_"
      },
      "execution_count": null,
      "outputs": []
    },
    {
      "cell_type": "markdown",
      "source": [
        "## Training\n",
        "\n",
        "Entrenemos durante 20 épocas. Esto puede tardar unos minutos en ejecutarse."
      ],
      "metadata": {
        "id": "eGHfvRV9Ad-5"
      }
    },
    {
      "cell_type": "code",
      "source": [
        "model_convolutional.compile(optimizer = \"adam\", loss = \"categorical_crossentropy\", metrics = ['accuracy'])"
      ],
      "metadata": {
        "id": "kBamEY4mAMrJ"
      },
      "execution_count": null,
      "outputs": []
    },
    {
      "cell_type": "code",
      "source": [
        "history = model_convolutional.fit(\n",
        "    train_generator,\n",
        "    epochs= 20,\n",
        "    validation_data = validation_generator\n",
        ")"
      ],
      "metadata": {
        "id": "sk_vMYYcAMuU"
      },
      "execution_count": null,
      "outputs": []
    },
    {
      "cell_type": "markdown",
      "source": [
        "## Testing"
      ],
      "metadata": {
        "id": "T2dpyE3gAjKk"
      }
    },
    {
      "cell_type": "code",
      "source": [
        "results = model_convolutional.evaluate(test_generator)"
      ],
      "metadata": {
        "id": "ZT8Tblq3AMxb"
      },
      "execution_count": null,
      "outputs": []
    },
    {
      "cell_type": "markdown",
      "source": [
        "## Summary model"
      ],
      "metadata": {
        "id": "EBbg6AksAn9T"
      }
    },
    {
      "cell_type": "code",
      "source": [
        "def visualizacion_resultados(history):\n",
        "    epochs = [i for i in range(20)]\n",
        "    fig, ax = plt.subplots(1,2)\n",
        "    train_acc = history.history[\"accuracy\"]\n",
        "    train_loss = history.history[\"loss\"]\n",
        "    val_acc = history.history[\"val_accuracy\"]\n",
        "    val_loss = history.history[\"val_loss\"]\n",
        "    fig.set_size_inches(16, 9)\n",
        "\n",
        "    ax[0].plot(epochs, train_acc, \"go-\", label =\" Entrenamiento accuracy\")\n",
        "    ax[0].plot(epochs, val_acc, \"ro-\", label= \"Validacion accuracy\")\n",
        "    ax[0].set_title(\"Entrenamiento & validación accuracy\")\n",
        "    ax[0].legend()\n",
        "    ax[0].set_xlabel(\"Epochs\")\n",
        "    ax[0].set_ylabel(\"Accuracy\")\n",
        "\n",
        "    ax[1].plot(epochs, train_loss, \"go-\", label =\" Entrenamiento Loss\")\n",
        "    ax[1].plot(epochs, val_loss, \"ro-\", label= \"Validacion Loss\")\n",
        "    ax[1].set_title(\"Entrenamiento & validación Loss\")\n",
        "    ax[1].legend()\n",
        "    ax[1].set_xlabel(\"Epochs\")\n",
        "    ax[1].set_ylabel(\"Loss\")\n",
        "\n",
        "    plt.show()"
      ],
      "metadata": {
        "id": "aL5wf39b_6OV"
      },
      "execution_count": null,
      "outputs": []
    },
    {
      "cell_type": "code",
      "source": [
        "visualizacion_resultados(history)"
      ],
      "metadata": {
        "id": "Mow7LpyHAqym"
      },
      "execution_count": null,
      "outputs": []
    },
    {
      "cell_type": "code",
      "source": [
        "print('Ok_')"
      ],
      "metadata": {
        "id": "XrMprFvTAq1m"
      },
      "execution_count": null,
      "outputs": []
    }
  ]
}