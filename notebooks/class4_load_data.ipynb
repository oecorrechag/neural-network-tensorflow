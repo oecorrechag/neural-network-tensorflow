{
  "cells": [
    {
      "cell_type": "markdown",
      "metadata": {
        "id": "view-in-github",
        "colab_type": "text"
      },
      "source": [
        "<a href=\"https://colab.research.google.com/github/oecorrechag/neural-network-tensorflow/blob/main/class4_load_data.ipynb\" target=\"_parent\"><img src=\"https://colab.research.google.com/assets/colab-badge.svg\" alt=\"Open In Colab\"/></a>"
      ]
    },
    {
      "cell_type": "markdown",
      "metadata": {
        "id": "sAlrTgKFaFjw"
      },
      "source": [
        "# AIMS\n",
        "\n",
        "En este archivo de conectara con gcp para cargar data"
      ]
    },
    {
      "cell_type": "code",
      "execution_count": null,
      "metadata": {
        "id": "VADYQPZ1aFj8"
      },
      "outputs": [],
      "source": [
        "%load_ext autoreload\n",
        "%autoreload 2"
      ]
    },
    {
      "cell_type": "code",
      "execution_count": null,
      "metadata": {
        "id": "CjuG4hLEaFj_"
      },
      "outputs": [],
      "source": [
        "import zipfile\n",
        "import base64\n",
        "import json\n",
        "import codecs\n",
        "import requests\n",
        "import pandas as pd\n",
        "import numpy as np\n",
        "from PIL import Image\n",
        "from io import BytesIO\n",
        "%matplotlib inline\n",
        "import matplotlib.pyplot as plt\n",
        "\n",
        "pd.set_option('display.max_columns', None)\n",
        "pd.set_option('display.max_rows', None)\n",
        "import warnings\n",
        "warnings.filterwarnings(\"ignore\")"
      ]
    },
    {
      "cell_type": "markdown",
      "metadata": {
        "id": "pNrjZ-VDaFkB"
      },
      "source": [
        "## Cargar desde gcp, json"
      ]
    },
    {
      "cell_type": "code",
      "execution_count": null,
      "metadata": {
        "id": "8pOgtxZyaFkC"
      },
      "outputs": [],
      "source": [
        "# !wget --no-check-certificate https://storage.googleapis.com/platzi-tf2/databasesLoadData.zip \\\n",
        "#     -O /tmp/databasesLoadData.zip"
      ]
    },
    {
      "cell_type": "code",
      "execution_count": null,
      "metadata": {
        "id": "OZAH-zU5aFkC"
      },
      "outputs": [],
      "source": [
        "# Descomprimimos\n",
        "local_zip = '/tmp/databasesLoadData.zip'\n",
        "zip_ref = zipfile.ZipFile(local_zip, 'r')\n",
        "zip_ref.extractall('/tmp/databasesLoadData')\n",
        "zip_ref.close()"
      ]
    },
    {
      "cell_type": "code",
      "execution_count": null,
      "metadata": {
        "id": "3R3T0c2_aFkF"
      },
      "outputs": [],
      "source": [
        "url = \"/tmp/databasesLoadData/sign_mnist_json/data.json\""
      ]
    },
    {
      "cell_type": "code",
      "execution_count": null,
      "metadata": {
        "id": "exvvnUy3aFkG"
      },
      "outputs": [],
      "source": [
        "data_json = []\n",
        "with codecs.open(url, 'r','utf-8') as js:\n",
        "  for line in js:\n",
        "    data_json.append(json.loads(line))\n",
        "\n",
        "print(f\"{len(data_json)} imagenes encontradas\")"
      ]
    },
    {
      "cell_type": "code",
      "execution_count": null,
      "metadata": {
        "id": "nzszXfntaFkH"
      },
      "outputs": [],
      "source": [
        "data_json[0]"
      ]
    },
    {
      "cell_type": "code",
      "execution_count": null,
      "metadata": {
        "id": "m7AdTKhdaFkH"
      },
      "outputs": [],
      "source": [
        "# images = []\n",
        "\n",
        "# for data in data_json:\n",
        "#   response = requests.get(data['content'])\n",
        "#   img = np.asarray(Image.open(BytesIO(response.content)))\n",
        "#   images.append([img, data[\"label\"]])"
      ]
    },
    {
      "cell_type": "code",
      "execution_count": null,
      "metadata": {
        "id": "0uIbk_SaaFkI"
      },
      "outputs": [],
      "source": [
        "# plt.imshow(images[0][0].reshape(28, 28))\n",
        "# print(images[0][1])"
      ]
    },
    {
      "cell_type": "markdown",
      "metadata": {
        "id": "aTOiTMx7aFkI"
      },
      "source": [
        "## Cargar desde Base 64"
      ]
    },
    {
      "cell_type": "code",
      "execution_count": null,
      "metadata": {
        "id": "f9PR7KVXaFkI"
      },
      "outputs": [],
      "source": [
        "url = \"/tmp/databasesLoadData/sign_mnist_base64/data.json\"\n",
        "\n",
        "with open(url) as f:\n",
        "  data = json.load(f)\n",
        "\n",
        "print(data)"
      ]
    },
    {
      "cell_type": "code",
      "execution_count": null,
      "metadata": {
        "id": "E4OvitVTaFkI"
      },
      "outputs": [],
      "source": [
        "base64_img_bytes = data['b'].encode('utf-8')\n",
        "path_img = \"/tmp/decoded_images.png\"\n",
        "with open(path_img, \"wb\") as file_to_save:\n",
        "  decoded_image_data = base64.decodebytes(base64_img_bytes)\n",
        "  file_to_save.write(decoded_image_data)"
      ]
    },
    {
      "cell_type": "code",
      "execution_count": null,
      "metadata": {
        "id": "4z4CeM3-aFkJ"
      },
      "outputs": [],
      "source": [
        "img = Image.open(path_img)\n",
        "img"
      ]
    },
    {
      "cell_type": "markdown",
      "metadata": {
        "id": "hW8pYhQAaFkJ"
      },
      "source": [
        "## Cargar desde csv"
      ]
    },
    {
      "cell_type": "code",
      "execution_count": null,
      "metadata": {
        "id": "Ylg66vxQaFkJ"
      },
      "outputs": [],
      "source": [
        "img = Image.open(\"/tmp/databasesLoadData/pixeles.png\")\n",
        "img"
      ]
    },
    {
      "cell_type": "code",
      "execution_count": null,
      "metadata": {
        "id": "QLWE_tpYaFkJ"
      },
      "outputs": [],
      "source": [
        "train = pd.read_csv(\"/tmp/databasesLoadData/sign_mnist_train/sign_mnist_train.csv\")\n",
        "test = pd.read_csv(\"/tmp/databasesLoadData/sign_mnist_test/sign_mnist_test.csv\")"
      ]
    },
    {
      "cell_type": "code",
      "execution_count": null,
      "metadata": {
        "id": "pMx04XypaFkK"
      },
      "outputs": [],
      "source": [
        "train.head()"
      ]
    },
    {
      "cell_type": "code",
      "execution_count": null,
      "metadata": {
        "id": "gl6ohFhjaFkK"
      },
      "outputs": [],
      "source": [
        "# 28 x 28\n",
        "train.shape"
      ]
    },
    {
      "cell_type": "code",
      "execution_count": null,
      "metadata": {
        "id": "va7UTH6CaFkK"
      },
      "outputs": [],
      "source": [
        "labels = train['label'].values\n",
        "train.drop('label', axis = 1, inplace = True)"
      ]
    },
    {
      "cell_type": "code",
      "execution_count": null,
      "metadata": {
        "id": "FJA0ob3GaFkM"
      },
      "outputs": [],
      "source": [
        "train.head()"
      ]
    },
    {
      "cell_type": "code",
      "execution_count": null,
      "metadata": {
        "id": "nl_PBYrCaFkM"
      },
      "outputs": [],
      "source": [
        "images = train.values\n",
        "images"
      ]
    },
    {
      "cell_type": "code",
      "execution_count": null,
      "metadata": {
        "id": "Ez8ofxXXaFkM"
      },
      "outputs": [],
      "source": [
        "plt.imshow(images[1].reshape(28, 28))"
      ]
    },
    {
      "cell_type": "code",
      "execution_count": null,
      "metadata": {
        "id": "H8CZJqWxaFkM"
      },
      "outputs": [],
      "source": [
        "print('Ok_')"
      ]
    }
  ],
  "metadata": {
    "kernelspec": {
      "display_name": "Python 3",
      "name": "python3"
    },
    "language_info": {
      "codemirror_mode": {
        "name": "ipython",
        "version": 3
      },
      "file_extension": ".py",
      "mimetype": "text/x-python",
      "name": "python",
      "nbconvert_exporter": "python",
      "pygments_lexer": "ipython3",
      "version": "3.11.4"
    },
    "orig_nbformat": 4,
    "colab": {
      "provenance": [],
      "include_colab_link": true
    }
  },
  "nbformat": 4,
  "nbformat_minor": 0
}