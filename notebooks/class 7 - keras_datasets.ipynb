{
  "cells": [
    {
      "cell_type": "markdown",
      "metadata": {
        "id": "view-in-github",
        "colab_type": "text"
      },
      "source": [
        "<a href=\"https://colab.research.google.com/github/oecorrechag/neural-network-tensorflow/blob/main/class%207%20-%20keras_datasets.ipynb\" target=\"_parent\"><img src=\"https://colab.research.google.com/assets/colab-badge.svg\" alt=\"Open In Colab\"/></a>"
      ]
    },
    {
      "cell_type": "markdown",
      "metadata": {
        "id": "9ePFvWC6rLo5"
      },
      "source": [
        "# AIMS\n",
        "\n",
        "load datasets from keras"
      ]
    },
    {
      "cell_type": "code",
      "execution_count": null,
      "metadata": {
        "id": "T4NTVyocrLpl"
      },
      "outputs": [],
      "source": [
        "%load_ext autoreload\n",
        "%autoreload 2"
      ]
    },
    {
      "cell_type": "code",
      "execution_count": null,
      "metadata": {
        "id": "ZMS6IOcSrLpv"
      },
      "outputs": [],
      "source": [
        "import pandas as pd\n",
        "import numpy as np\n",
        "\n",
        "import json\n",
        "\n",
        "%matplotlib inline\n",
        "import matplotlib.pyplot as plt\n",
        "\n",
        "import tensorflow as tf\n",
        "from tensorflow.keras.datasets import mnist\n",
        "from tensorflow.keras.datasets import cifar100\n",
        "from tensorflow.keras.datasets import fashion_mnist\n",
        "\n",
        "pd.set_option('display.max_columns', None)\n",
        "pd.set_option('display.max_rows', None)\n",
        "import warnings\n",
        "warnings.filterwarnings(\"ignore\")"
      ]
    },
    {
      "cell_type": "code",
      "execution_count": null,
      "metadata": {
        "id": "qltCYsfjrLqA"
      },
      "outputs": [],
      "source": [
        "(x_train, y_train), (x_test,y_test) = cifar100.load_data(label_mode = \"fine\")"
      ]
    },
    {
      "cell_type": "code",
      "execution_count": null,
      "metadata": {
        "id": "eFwT6nDArLqE"
      },
      "outputs": [],
      "source": [
        "print(x_train.shape)\n",
        "print(y_train.shape)"
      ]
    },
    {
      "cell_type": "code",
      "execution_count": null,
      "metadata": {
        "id": "6tjApRoarLqJ"
      },
      "outputs": [],
      "source": [
        "num_image = 944\n",
        "plt.imshow(x_train[num_image])\n",
        "print(y_train[num_image])"
      ]
    },
    {
      "cell_type": "code",
      "source": [
        "# !wget --no-check-certificate https://storage.googleapis.com/platzi-tf2/cifar100_labels.json \\\n",
        "#     -O /tmp/cifar100_labels.json"
      ],
      "metadata": {
        "id": "XF2XUIr3zepn"
      },
      "execution_count": null,
      "outputs": []
    },
    {
      "cell_type": "code",
      "source": [
        "import json\n",
        "with open(\"/tmp/cifar100_labels.json\", \"r\") as fine_labels:\n",
        "  cifar100_labels = json.load(fine_labels)"
      ],
      "metadata": {
        "id": "bgRH6upwzyCK"
      },
      "execution_count": null,
      "outputs": []
    },
    {
      "cell_type": "code",
      "execution_count": null,
      "metadata": {
        "id": "xJVgKfdTrLqo"
      },
      "outputs": [],
      "source": [
        "print(len(cifar100_labels))"
      ]
    },
    {
      "cell_type": "code",
      "execution_count": null,
      "metadata": {
        "id": "haev6rZ7rLqs"
      },
      "outputs": [],
      "source": [
        "num_label = 4\n",
        "plt.imshow(x_train[num_image])\n",
        "print(cifar100_labels[num_label])"
      ]
    },
    {
      "cell_type": "markdown",
      "metadata": {
        "id": "mHcXi-9mrLqt"
      },
      "source": [
        "# Load dataset mnist"
      ]
    },
    {
      "cell_type": "code",
      "execution_count": null,
      "metadata": {
        "id": "dXwDTCMurLqu"
      },
      "outputs": [],
      "source": [
        "(x_train_mnist, y_train_mnist), (x_test_mnist, y_test_mnist) = mnist.load_data()"
      ]
    },
    {
      "cell_type": "code",
      "execution_count": null,
      "metadata": {
        "id": "YukpZIQRrLqv"
      },
      "outputs": [],
      "source": [
        "print(x_train_mnist.shape)\n",
        "print(y_train_mnist.shape)\n",
        "print(x_test_mnist.shape)\n",
        "print(y_test_mnist.shape)"
      ]
    },
    {
      "cell_type": "code",
      "execution_count": null,
      "metadata": {
        "id": "qmJVlmwurLqw"
      },
      "outputs": [],
      "source": [
        "num_image = 944\n",
        "plt.imshow(x_train_mnist[num_image])\n",
        "print(y_train_mnist[num_image])"
      ]
    },
    {
      "cell_type": "markdown",
      "metadata": {
        "id": "7T3hYDrUrLq9"
      },
      "source": [
        "# Load dataset fashion_mnist"
      ]
    },
    {
      "cell_type": "code",
      "execution_count": null,
      "metadata": {
        "id": "LekWgjLurLq_"
      },
      "outputs": [],
      "source": [
        "(x_train_fashion, y_train_fashion), (x_test_fashion, y_test_fashion) = fashion_mnist.load_data()"
      ]
    },
    {
      "cell_type": "code",
      "execution_count": null,
      "metadata": {
        "id": "a6xn3z7ErLrA"
      },
      "outputs": [],
      "source": [
        "print(x_train_fashion.shape)\n",
        "print(y_train_fashion.shape)\n",
        "print(x_test_fashion.shape)\n",
        "print(y_test_fashion.shape)"
      ]
    },
    {
      "cell_type": "code",
      "execution_count": null,
      "metadata": {
        "id": "1TQkjRv8rLrB"
      },
      "outputs": [],
      "source": [
        "num_image = 944\n",
        "plt.imshow(x_train_fashion[num_image])\n",
        "print(y_train_fashion[num_image])"
      ]
    },
    {
      "cell_type": "code",
      "execution_count": null,
      "metadata": {
        "id": "cbG-2AEgrLrC"
      },
      "outputs": [],
      "source": [
        "print('Ok_')"
      ]
    }
  ],
  "metadata": {
    "kernelspec": {
      "display_name": "Python 3",
      "language": "python",
      "name": "python3"
    },
    "language_info": {
      "codemirror_mode": {
        "name": "ipython",
        "version": 3
      },
      "file_extension": ".py",
      "mimetype": "text/x-python",
      "name": "python",
      "nbconvert_exporter": "python",
      "pygments_lexer": "ipython3",
      "version": "3.11.4"
    },
    "orig_nbformat": 4,
    "colab": {
      "provenance": [],
      "include_colab_link": true
    }
  },
  "nbformat": 4,
  "nbformat_minor": 0
}