{
  "cells": [
    {
      "cell_type": "markdown",
      "metadata": {
        "colab_type": "text",
        "id": "view-in-github"
      },
      "source": [
        "<a href=\"https://colab.research.google.com/github/oecorrechag/neural-network-tensorflow/blob/main/class%2023%20-%20save_model2.ipynb\" target=\"_parent\"><img src=\"https://colab.research.google.com/assets/colab-badge.svg\" alt=\"Open In Colab\"/></a>"
      ]
    },
    {
      "cell_type": "markdown",
      "metadata": {
        "id": "8cEnogk33Pnm"
      },
      "source": [
        "# AIMS\n",
        "\n",
        "Ejemplo de red neuronal"
      ]
    },
    {
      "cell_type": "code",
      "execution_count": null,
      "metadata": {
        "id": "QYVi9zX83Pnv"
      },
      "outputs": [],
      "source": [
        "%load_ext autoreload\n",
        "%autoreload 2"
      ]
    },
    {
      "cell_type": "code",
      "execution_count": null,
      "metadata": {
        "id": "mcQvzFGR3Pnx"
      },
      "outputs": [],
      "source": [
        "import string\n",
        "import pandas as pd\n",
        "import time\n",
        "import zipfile\n",
        "%matplotlib inline\n",
        "import matplotlib.pyplot as plt\n",
        "import tensorflow as tf\n",
        "from tensorflow.keras.preprocessing.image import ImageDataGenerator\n",
        "from tensorflow.keras.callbacks import ModelCheckpoint\n",
        "\n",
        "pd.set_option('display.max_columns', None)\n",
        "pd.set_option('display.max_rows', None)\n",
        "import warnings\n",
        "warnings.filterwarnings(\"ignore\")"
      ]
    },
    {
      "cell_type": "markdown",
      "metadata": {
        "id": "mpWn4DMv3Pn3"
      },
      "source": [
        "## Cargar el train y test"
      ]
    },
    {
      "cell_type": "code",
      "execution_count": null,
      "metadata": {
        "id": "MzajDqO44kbZ"
      },
      "outputs": [],
      "source": [
        "# !wget --no-check-certificate https://storage.googleapis.com/platzi-tf2/sign-language-img.zip \\\n",
        "#     -O sign-language-img.zip"
      ]
    },
    {
      "cell_type": "code",
      "execution_count": null,
      "metadata": {
        "id": "BYh204B14khR"
      },
      "outputs": [],
      "source": [
        "# Descomprimimos\n",
        "local_zip = '/tmp/sign-language-img.zip'\n",
        "zip_ref = zipfile.ZipFile(local_zip, 'r')\n",
        "zip_ref.extractall('/tmp/sign-language-img')\n",
        "zip_ref.close()"
      ]
    },
    {
      "cell_type": "code",
      "execution_count": null,
      "metadata": {
        "id": "-IY-u2ck3Pn5"
      },
      "outputs": [],
      "source": [
        "train_dir = \"/tmp/sign-language-img/Train\"\n",
        "test_dir = \"/tmp/sign-language-img/Test\""
      ]
    },
    {
      "cell_type": "markdown",
      "metadata": {
        "id": "f-NrQk2v3Pn7"
      },
      "source": [
        "## Data Generators"
      ]
    },
    {
      "cell_type": "code",
      "execution_count": null,
      "metadata": {
        "id": "azhZ_av-3Pn8"
      },
      "outputs": [],
      "source": [
        "train_datagen = ImageDataGenerator(rescale = 1/255)\n",
        "test_datagen = ImageDataGenerator(rescale = 1/255, validation_split= 0.2)"
      ]
    },
    {
      "cell_type": "code",
      "execution_count": null,
      "metadata": {
        "colab": {
          "base_uri": "https://localhost:8080/"
        },
        "id": "mshEzAGY3Pn9",
        "outputId": "ebdb53df-fafa-4719-80e5-1dabb99ffa26"
      },
      "outputs": [],
      "source": [
        "train_generator = train_datagen.flow_from_directory(\n",
        "    train_dir,\n",
        "    target_size = (28, 28),\n",
        "    batch_size = 128,\n",
        "    class_mode = \"categorical\",\n",
        "    color_mode = \"grayscale\",\n",
        "    subset = \"training\"\n",
        ")\n",
        "\n",
        "validation_generator = test_datagen.flow_from_directory(\n",
        "    test_dir,\n",
        "    target_size = (28, 28),\n",
        "    batch_size = 128,\n",
        "    class_mode = \"categorical\",\n",
        "    color_mode = \"grayscale\",\n",
        "    subset = \"validation\"\n",
        ")\n",
        "\n",
        "test_generator = test_datagen.flow_from_directory(\n",
        "    test_dir,\n",
        "    target_size = (28, 28),\n",
        "    batch_size = 128,\n",
        "    class_mode = \"categorical\",\n",
        "    color_mode = \"grayscale\"\n",
        ")"
      ]
    },
    {
      "cell_type": "markdown",
      "metadata": {
        "id": "liFwNCxc3Pn-"
      },
      "source": [
        "## Definir las clases\n",
        "\n",
        "Recordar que hay dos letras que no tenemos J y Z"
      ]
    },
    {
      "cell_type": "code",
      "execution_count": null,
      "metadata": {
        "colab": {
          "base_uri": "https://localhost:8080/"
        },
        "id": "scVxMUH-3Pn_",
        "outputId": "cef46612-463f-4a14-dc45-44e4c9f6ca67"
      },
      "outputs": [],
      "source": [
        "classes = [char for char in string.ascii_uppercase if char != \"J\" if char != \"Z\"]\n",
        "classes"
      ]
    },
    {
      "cell_type": "markdown",
      "metadata": {
        "id": "6ucYh_Oz3Pn_"
      },
      "source": [
        "## Generate model"
      ]
    },
    {
      "cell_type": "code",
      "execution_count": null,
      "metadata": {
        "id": "0UUBJB8t7vU3"
      },
      "outputs": [],
      "source": [
        "def get_model():\n",
        "  model = tf.keras.models.Sequential([\n",
        "              tf.keras.layers.Flatten(input_shape= (28, 28, 1)),\n",
        "              tf.keras.layers.Dense(256, activation = \"relu\"),\n",
        "              tf.keras.layers.Dense(128, activation = \"relu\"),\n",
        "              tf.keras.layers.Dense(len(classes), activation = \"softmax\")\n",
        "  ])\n",
        "  return model"
      ]
    },
    {
      "cell_type": "code",
      "execution_count": null,
      "metadata": {
        "colab": {
          "base_uri": "https://localhost:8080/"
        },
        "id": "7gcQOoHW3Pn_",
        "outputId": "261c518c-348e-4303-a548-1fee57b696c0"
      },
      "outputs": [],
      "source": [
        "model_base = get_model()\n",
        "model_base.summary()"
      ]
    },
    {
      "cell_type": "markdown",
      "metadata": {
        "id": "SnW64K-H3PoA"
      },
      "source": [
        "## Training\n",
        "\n",
        "Entrenemos durante 20 épocas. Esto puede tardar unos minutos en ejecutarse."
      ]
    },
    {
      "cell_type": "code",
      "execution_count": null,
      "metadata": {
        "id": "qOYfeeVZ3PoA"
      },
      "outputs": [],
      "source": [
        "model_base.compile(optimizer = \"adam\", loss = \"categorical_crossentropy\", metrics = ['accuracy'])"
      ]
    },
    {
      "cell_type": "code",
      "execution_count": null,
      "metadata": {
        "colab": {
          "base_uri": "https://localhost:8080/"
        },
        "id": "ddVX0shX3PoA",
        "outputId": "3d43d8c6-a7d1-452c-9e29-30dcf3870e87"
      },
      "outputs": [],
      "source": [
        "inicio = time.time()\n",
        "\n",
        "history = model_base.fit(\n",
        "    train_generator,\n",
        "    epochs= 10,\n",
        "    validation_data = validation_generator\n",
        ")\n",
        "\n",
        "fin = time.time()"
      ]
    },
    {
      "cell_type": "code",
      "execution_count": null,
      "metadata": {
        "colab": {
          "base_uri": "https://localhost:8080/"
        },
        "id": "TYYnhZsL3PoB",
        "outputId": "7092412c-0872-441a-f27c-1b86a8c759f9"
      },
      "outputs": [],
      "source": [
        "print(fin - inicio)"
      ]
    },
    {
      "cell_type": "markdown",
      "metadata": {
        "id": "kcs-K6NC3PoB"
      },
      "source": [
        "## Testing"
      ]
    },
    {
      "cell_type": "code",
      "execution_count": null,
      "metadata": {
        "colab": {
          "base_uri": "https://localhost:8080/"
        },
        "id": "obB53yq23PoB",
        "outputId": "90650fbb-f0f2-4f0d-a848-97a3896518df"
      },
      "outputs": [],
      "source": [
        "results = model_base.evaluate(test_generator)"
      ]
    },
    {
      "cell_type": "markdown",
      "metadata": {
        "id": "qxBSZxwG3PoB"
      },
      "source": [
        "## Summary model"
      ]
    },
    {
      "cell_type": "code",
      "execution_count": null,
      "metadata": {
        "id": "NzMjFXkx3PoC"
      },
      "outputs": [],
      "source": [
        "def visualizacion_resultados(history):\n",
        "    epochs = [i for i in range(20)]\n",
        "    fig, ax = plt.subplots(1,2)\n",
        "    train_acc = history.history[\"accuracy\"]\n",
        "    train_loss = history.history[\"loss\"]\n",
        "    val_acc = history.history[\"val_accuracy\"]\n",
        "    val_loss = history.history[\"val_loss\"]\n",
        "    fig.set_size_inches(16, 9)\n",
        "\n",
        "    ax[0].plot(epochs, train_acc, \"go-\", label =\" Entrenamiento accuracy\")\n",
        "    ax[0].plot(epochs, val_acc, \"ro-\", label= \"Validacion accuracy\")\n",
        "    ax[0].set_title(\"Entrenamiento & validación accuracy\")\n",
        "    ax[0].legend()\n",
        "    ax[0].set_xlabel(\"Epochs\")\n",
        "    ax[0].set_ylabel(\"Accuracy\")\n",
        "\n",
        "    ax[1].plot(epochs, train_loss, \"go-\", label =\" Entrenamiento Loss\")\n",
        "    ax[1].plot(epochs, val_loss, \"ro-\", label= \"Validacion Loss\")\n",
        "    ax[1].set_title(\"Entrenamiento & validación Loss\")\n",
        "    ax[1].legend()\n",
        "    ax[1].set_xlabel(\"Epochs\")\n",
        "    ax[1].set_ylabel(\"Loss\")\n",
        "\n",
        "    plt.show()"
      ]
    },
    {
      "cell_type": "code",
      "execution_count": null,
      "metadata": {
        "colab": {
          "base_uri": "https://localhost:8080/",
          "height": 629
        },
        "id": "iMz_k4kg3PoC",
        "outputId": "c641db95-edc8-41d0-f23f-af461aea7e17"
      },
      "outputs": [],
      "source": [
        "visualizacion_resultados(history)"
      ]
    },
    {
      "cell_type": "markdown",
      "metadata": {
        "id": "sc_Ll6uG7vU6"
      },
      "source": [
        "### Save architecture and weights"
      ]
    },
    {
      "cell_type": "code",
      "execution_count": null,
      "metadata": {
        "colab": {
          "base_uri": "https://localhost:8080/"
        },
        "id": "2begaO3i7vU6",
        "outputId": "4abda56f-e003-4e3f-d3dd-4c280b134761"
      },
      "outputs": [],
      "source": [
        "config_dict = model_base.get_config()\n",
        "config_dict"
      ]
    },
    {
      "cell_type": "markdown",
      "metadata": {
        "id": "ji8HZmfr7vU6"
      },
      "source": [
        "### Load architecture and weights"
      ]
    },
    {
      "cell_type": "code",
      "execution_count": null,
      "metadata": {
        "id": "NY4N3y-jCwG1"
      },
      "outputs": [],
      "source": [
        "checkpoint_path = \"model_checpoints_complete\"\n",
        "checkpoint_weighs= ModelCheckpoint(\n",
        "    filepath = checkpoint_path,\n",
        "    frecuency = \"epoch\",\n",
        "    save_weights_only = False,\n",
        "    monitor = \"val_accuracy\",\n",
        "    save_best_only = True,\n",
        "    verbose = 1\n",
        ")"
      ]
    },
    {
      "cell_type": "code",
      "execution_count": null,
      "metadata": {
        "colab": {
          "base_uri": "https://localhost:8080/"
        },
        "id": "RhLJiqADCwKE",
        "outputId": "616e3256-439d-45c3-ba74-1329eecca1b4"
      },
      "outputs": [],
      "source": [
        "model_complete = get_model()\n",
        "model_complete.compile(optimizer = \"adam\", loss = \"categorical_crossentropy\", metrics = [\"accuracy\"])\n",
        "\n",
        "history_complete = model_complete.fit(\n",
        "    train_generator,\n",
        "    epochs = 10,\n",
        "    callbacks = [checkpoint_weighs],\n",
        "    validation_data = validation_generator\n",
        ")"
      ]
    },
    {
      "cell_type": "markdown",
      "metadata": {
        "id": "Ol8A9DizDHr5"
      },
      "source": [
        "### Almacenar infraestructura y peso manual"
      ]
    },
    {
      "cell_type": "code",
      "execution_count": null,
      "metadata": {
        "colab": {
          "base_uri": "https://localhost:8080/"
        },
        "id": "4RIFhIwCCwND",
        "outputId": "5ad2627d-0e8b-406a-e657-32bfe731e3d7"
      },
      "outputs": [],
      "source": [
        "model_complete.save(\"saved_model_complete/mymodel\")"
      ]
    },
    {
      "cell_type": "markdown",
      "metadata": {
        "id": "pNZTqv98DUUy"
      },
      "source": [
        "## Cargamos nuestro modelo completo"
      ]
    },
    {
      "cell_type": "code",
      "execution_count": null,
      "metadata": {
        "id": "hTm4W6RBDJ4g"
      },
      "outputs": [],
      "source": [
        "model_complete3 = tf.keras.models.load_model(\"saved_model_complete/mymodel\")"
      ]
    },
    {
      "cell_type": "code",
      "execution_count": null,
      "metadata": {
        "colab": {
          "base_uri": "https://localhost:8080/"
        },
        "id": "OEzuxdJsDJ75",
        "outputId": "50702f67-ebd5-427e-99cf-723b1531608c"
      },
      "outputs": [],
      "source": [
        "model_complete3.evaluate(test_generator)"
      ]
    },
    {
      "cell_type": "code",
      "execution_count": null,
      "metadata": {
        "colab": {
          "base_uri": "https://localhost:8080/"
        },
        "id": "cujx2KmHDJ-q",
        "outputId": "11a8812f-ef36-4c23-ccc0-e8f582662677"
      },
      "outputs": [],
      "source": [
        "model_complete.evaluate(test_generator)"
      ]
    },
    {
      "cell_type": "markdown",
      "metadata": {
        "id": "bGKL5r88DhJB"
      },
      "source": [
        "## Usar el formato .h5"
      ]
    },
    {
      "cell_type": "code",
      "execution_count": null,
      "metadata": {
        "id": "gS3xjI0nDKB1"
      },
      "outputs": [],
      "source": [
        "# !pip install pyyaml h5py"
      ]
    },
    {
      "cell_type": "code",
      "execution_count": null,
      "metadata": {
        "id": "amSSsrtjDotT"
      },
      "outputs": [],
      "source": [
        "model_complete3.save(\"my_model.h5\")"
      ]
    },
    {
      "cell_type": "code",
      "execution_count": null,
      "metadata": {
        "colab": {
          "base_uri": "https://localhost:8080/"
        },
        "id": "6F9aiRHkDow5",
        "outputId": "708874a0-e010-4a0d-a862-eaf8330549b9"
      },
      "outputs": [],
      "source": [
        "model_complete4 = tf.keras.models.load_model(\"my_model.h5\")\n",
        "model_complete4.summary()"
      ]
    },
    {
      "cell_type": "code",
      "execution_count": null,
      "metadata": {
        "colab": {
          "base_uri": "https://localhost:8080/"
        },
        "id": "LBDqa6Ye3PoD",
        "outputId": "8f36efe7-8da8-46b8-88a2-40f48b4bd034"
      },
      "outputs": [],
      "source": [
        "print('Ok_')"
      ]
    }
  ],
  "metadata": {
    "colab": {
      "include_colab_link": true,
      "provenance": []
    },
    "kernelspec": {
      "display_name": "Python 3",
      "language": "python",
      "name": "python3"
    },
    "language_info": {
      "codemirror_mode": {
        "name": "ipython",
        "version": 3
      },
      "file_extension": ".py",
      "mimetype": "text/x-python",
      "name": "python",
      "nbconvert_exporter": "python",
      "pygments_lexer": "ipython3",
      "version": "3.11.4"
    },
    "orig_nbformat": 4
  },
  "nbformat": 4,
  "nbformat_minor": 0
}
