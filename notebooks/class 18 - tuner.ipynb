{
  "cells": [
    {
      "cell_type": "markdown",
      "metadata": {
        "id": "view-in-github",
        "colab_type": "text"
      },
      "source": [
        "<a href=\"https://colab.research.google.com/github/oecorrechag/neural-network-tensorflow/blob/main/notebooks/class%2018%20-%20tuner.ipynb\" target=\"_parent\"><img src=\"https://colab.research.google.com/assets/colab-badge.svg\" alt=\"Open In Colab\"/></a>"
      ]
    },
    {
      "cell_type": "markdown",
      "metadata": {
        "id": "Sm7LRnlSUFEz"
      },
      "source": [
        "# AIMS\n",
        "\n",
        "Uso de callbacks"
      ]
    },
    {
      "cell_type": "code",
      "execution_count": null,
      "metadata": {
        "id": "JY5QXpTuUFFA"
      },
      "outputs": [],
      "source": [
        "%load_ext autoreload\n",
        "%autoreload 2"
      ]
    },
    {
      "cell_type": "code",
      "execution_count": null,
      "metadata": {
        "id": "oJFFMVFW5pmZ"
      },
      "outputs": [],
      "source": [
        "!pip install -q -U keras-tuner"
      ]
    },
    {
      "cell_type": "code",
      "execution_count": null,
      "metadata": {
        "id": "SwNWFs9QUFFD"
      },
      "outputs": [],
      "source": [
        "import string\n",
        "import pandas as pd\n",
        "import time\n",
        "import zipfile\n",
        "%matplotlib inline\n",
        "import matplotlib.pyplot as plt\n",
        "import keras_tuner\n",
        "import tensorflow as tf\n",
        "from tensorflow import keras\n",
        "from tensorflow.keras import regularizers\n",
        "from tensorflow.keras.callbacks import Callback\n",
        "from tensorflow.keras.preprocessing.image import ImageDataGenerator\n",
        "pd.set_option('display.max_columns', None)\n",
        "pd.set_option('display.max_rows', None)\n",
        "import warnings\n",
        "warnings.filterwarnings(\"ignore\")"
      ]
    },
    {
      "cell_type": "markdown",
      "metadata": {
        "id": "_eoQpso5UFFF"
      },
      "source": [
        "## Cargar el train y test"
      ]
    },
    {
      "cell_type": "code",
      "execution_count": null,
      "metadata": {
        "id": "cwyeR6Pk2h3O"
      },
      "outputs": [],
      "source": [
        "# !wget --no-check-certificate https://storage.googleapis.com/platzi-tf2/sign-language-img.zip \\\n",
        "#     -O sign-language-img.zip"
      ]
    },
    {
      "cell_type": "code",
      "execution_count": null,
      "metadata": {
        "id": "9wwyGcaq2h6m"
      },
      "outputs": [],
      "source": [
        "# Descomprimimos\n",
        "local_zip = '/tmp/sign-language-img.zip'\n",
        "zip_ref = zipfile.ZipFile(local_zip, 'r')\n",
        "zip_ref.extractall('/tmp/sign-language-img')\n",
        "zip_ref.close()"
      ]
    },
    {
      "cell_type": "code",
      "execution_count": null,
      "metadata": {
        "id": "-DfCqPpkUFFN"
      },
      "outputs": [],
      "source": [
        "train_dir = \"/tmp/sign-language-img/Train\"\n",
        "test_dir = \"/tmp/sign-language-img/Test\""
      ]
    },
    {
      "cell_type": "markdown",
      "metadata": {
        "id": "sjUR_LfyUFFP"
      },
      "source": [
        "## Data Generators"
      ]
    },
    {
      "cell_type": "code",
      "execution_count": null,
      "metadata": {
        "id": "eKnqSrFRUFFQ"
      },
      "outputs": [],
      "source": [
        "train_datagen = ImageDataGenerator(rescale = 1/255)\n",
        "test_datagen = ImageDataGenerator(rescale = 1/255, validation_split= 0.2)"
      ]
    },
    {
      "cell_type": "code",
      "execution_count": null,
      "metadata": {
        "id": "wpiaoortUFFR"
      },
      "outputs": [],
      "source": [
        "train_generator = train_datagen.flow_from_directory(\n",
        "    train_dir,\n",
        "    target_size = (28, 28),\n",
        "    batch_size = 128,\n",
        "    class_mode = \"categorical\",\n",
        "    color_mode = \"grayscale\",\n",
        "    subset = \"training\"\n",
        ")\n",
        "\n",
        "validation_generator = test_datagen.flow_from_directory(\n",
        "    test_dir,\n",
        "    target_size = (28, 28),\n",
        "    batch_size = 128,\n",
        "    class_mode = \"categorical\",\n",
        "    color_mode = \"grayscale\",\n",
        "    subset = \"validation\"\n",
        ")\n",
        "\n",
        "test_generator = test_datagen.flow_from_directory(\n",
        "    test_dir,\n",
        "    target_size = (28, 28),\n",
        "    batch_size = 128,\n",
        "    class_mode = \"categorical\",\n",
        "    color_mode = \"grayscale\"\n",
        ")"
      ]
    },
    {
      "cell_type": "markdown",
      "metadata": {
        "id": "jorxiLRPUFFS"
      },
      "source": [
        "## Definir las clases\n",
        "\n",
        "Recordar que hay dos letras que no tenemos J y Z"
      ]
    },
    {
      "cell_type": "code",
      "execution_count": null,
      "metadata": {
        "id": "2g5iXWM0UFFS"
      },
      "outputs": [],
      "source": [
        "classes = [char for char in string.ascii_uppercase if char != \"J\" if char != \"Z\"]\n",
        "classes"
      ]
    },
    {
      "cell_type": "markdown",
      "metadata": {
        "id": "IebtIlyZUFFT"
      },
      "source": [
        "## Generate model"
      ]
    },
    {
      "cell_type": "code",
      "execution_count": null,
      "metadata": {
        "id": "8DEPq7qLUFFT"
      },
      "outputs": [],
      "source": [
        "def constructor_modelos(hp):\n",
        "  model = tf.keras.models.Sequential()\n",
        "  model.add(tf.keras.layers.Conv2D(75, (3,3), activation= \"relu\", input_shape = (28, 28, 1)))\n",
        "  model.add(tf.keras.layers.MaxPool2D((2,2)))\n",
        "  model.add(tf.keras.layers.Flatten())\n",
        "\n",
        "  hp_units = hp.Int(\"units\", min_value = 32, max_value = 512, step = 32)\n",
        "  model.add(tf.keras.layers.Dense(units=hp_units,activation = \"relu\", kernel_regularizer= regularizers.l2(1e-5)))\n",
        "  model.add(tf.keras.layers.Dropout(0.2))\n",
        "  model.add(tf.keras.layers.Dense(128,activation = \"relu\", kernel_regularizer= regularizers.l2(1e-5)))\n",
        "  model.add(tf.keras.layers.Dropout(0.2))\n",
        "  model.add(tf.keras.layers.Dense(len(classes), activation = \"softmax\"))\n",
        "\n",
        "  hp_learning_rate = hp.Choice('learning_rate', values = [1e-2, 1e-3, 1e-4])\n",
        "\n",
        "  model.compile(optimizer = keras.optimizers.Adam(learning_rate=hp_learning_rate),loss = \"categorical_crossentropy\", metrics = [\"accuracy\"])\n",
        "\n",
        "  return model\n",
        "\n",
        "tuner = keras_tuner.Hyperband(\n",
        "    constructor_modelos,\n",
        "    objective = \"val_accuracy\",\n",
        "    max_epochs = 7,\n",
        "    factor = 3,\n",
        "    directory = \"models/\",\n",
        "    project_name = \"nn-tunner\"\n",
        ")"
      ]
    },
    {
      "cell_type": "code",
      "execution_count": null,
      "metadata": {
        "id": "c14nn9s175Vn"
      },
      "outputs": [],
      "source": [
        "tuner.search(train_generator, epochs = 7, validation_data = validation_generator)"
      ]
    },
    {
      "cell_type": "code",
      "execution_count": null,
      "metadata": {
        "id": "yTg5EIHJ76mR"
      },
      "outputs": [],
      "source": [
        "best_hps = tuner.get_best_hyperparameters(num_trials =1)[0]"
      ]
    },
    {
      "cell_type": "code",
      "execution_count": null,
      "metadata": {
        "id": "97iiDfru8Aqz"
      },
      "outputs": [],
      "source": [
        "print(best_hps.get(\"units\"))"
      ]
    },
    {
      "cell_type": "code",
      "execution_count": null,
      "metadata": {
        "id": "9UYeUcN08Clv"
      },
      "outputs": [],
      "source": [
        "print(best_hps.get(\"learning_rate\"))"
      ]
    },
    {
      "cell_type": "markdown",
      "metadata": {
        "id": "x83taSoGUFFT"
      },
      "source": [
        "## Training\n",
        "\n",
        "Entrenemos durante 20 épocas. Esto puede tardar unos minutos en ejecutarse."
      ]
    },
    {
      "cell_type": "code",
      "source": [
        "callback_early = tf.keras.callbacks.EarlyStopping(monitor = \"loss\", patience=3, mode = \"auto\")"
      ],
      "metadata": {
        "id": "tqc6OsgmcVcT"
      },
      "execution_count": null,
      "outputs": []
    },
    {
      "cell_type": "code",
      "source": [
        "hypermodel = tuner.hypermodel.build(best_hps)\n",
        "hypermodel.summary()"
      ],
      "metadata": {
        "id": "i-gUWxqOpQVb"
      },
      "execution_count": null,
      "outputs": []
    },
    {
      "cell_type": "markdown",
      "metadata": {
        "id": "Sp_RuTDJmzgY"
      },
      "source": [
        "## Testing"
      ]
    },
    {
      "cell_type": "code",
      "execution_count": null,
      "metadata": {
        "id": "STvr01RXhnWH"
      },
      "outputs": [],
      "source": [
        "results = hypermodel.evaluate(test_generator)"
      ]
    },
    {
      "cell_type": "markdown",
      "metadata": {
        "id": "YB0glICWnAwP"
      },
      "source": [
        "## Summary model\n"
      ]
    },
    {
      "cell_type": "code",
      "execution_count": null,
      "metadata": {
        "id": "zQAAdKhyhnY8"
      },
      "outputs": [],
      "source": [
        "def visualizacion_resultados(history):\n",
        "    epochs = [i for i in range(18)]\n",
        "    fig, ax = plt.subplots(1,2)\n",
        "    train_acc = history.history[\"accuracy\"]\n",
        "    train_loss = history.history[\"loss\"]\n",
        "    val_acc = history.history[\"val_accuracy\"]\n",
        "    val_loss = history.history[\"val_loss\"]\n",
        "    fig.set_size_inches(16, 9)\n",
        "\n",
        "    ax[0].plot(epochs, train_acc, \"go-\", label =\" Entrenamiento accuracy\")\n",
        "    ax[0].plot(epochs, val_acc, \"ro-\", label= \"Validacion accuracy\")\n",
        "    ax[0].set_title(\"Entrenamiento & validación accuracy\")\n",
        "    ax[0].legend()\n",
        "    ax[0].set_xlabel(\"Epochs\")\n",
        "    ax[0].set_ylabel(\"Accuracy\")\n",
        "\n",
        "    ax[1].plot(epochs, train_loss, \"go-\", label =\" Entrenamiento Loss\")\n",
        "    ax[1].plot(epochs, val_loss, \"ro-\", label= \"Validacion Loss\")\n",
        "    ax[1].set_title(\"Entrenamiento & validación Loss\")\n",
        "    ax[1].legend()\n",
        "    ax[1].set_xlabel(\"Epochs\")\n",
        "    ax[1].set_ylabel(\"Loss\")\n",
        "\n",
        "    plt.show()"
      ]
    },
    {
      "cell_type": "code",
      "execution_count": null,
      "metadata": {
        "id": "4RT-Xdqchnb8"
      },
      "outputs": [],
      "source": [
        "visualizacion_resultados(history_hypermodel)"
      ]
    },
    {
      "cell_type": "code",
      "execution_count": null,
      "metadata": {
        "id": "QbXIlb3JUFFa"
      },
      "outputs": [],
      "source": [
        "print('Ok_')"
      ]
    }
  ],
  "metadata": {
    "colab": {
      "provenance": [],
      "include_colab_link": true
    },
    "kernelspec": {
      "display_name": "Python 3",
      "language": "python",
      "name": "python3"
    },
    "language_info": {
      "codemirror_mode": {
        "name": "ipython",
        "version": 3
      },
      "file_extension": ".py",
      "mimetype": "text/x-python",
      "name": "python",
      "nbconvert_exporter": "python",
      "pygments_lexer": "ipython3",
      "version": "3.11.4"
    },
    "orig_nbformat": 4
  },
  "nbformat": 4,
  "nbformat_minor": 0
}