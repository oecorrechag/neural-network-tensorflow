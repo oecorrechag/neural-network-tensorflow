{
  "cells": [
    {
      "cell_type": "markdown",
      "metadata": {
        "id": "view-in-github",
        "colab_type": "text"
      },
      "source": [
        "<a href=\"https://colab.research.google.com/github/oecorrechag/neural-network-tensorflow/blob/main/notebooks/class%2013%20-%20recomendaciones.ipynb\" target=\"_parent\"><img src=\"https://colab.research.google.com/assets/colab-badge.svg\" alt=\"Open In Colab\"/></a>"
      ]
    },
    {
      "cell_type": "markdown",
      "metadata": {
        "id": "BV0uJgDoFO7T"
      },
      "source": [
        "# AIMS\n",
        "\n",
        "Recomendaciones\n",
        "\n",
        "![image.png](attachment:image.png)"
      ]
    },
    {
      "cell_type": "code",
      "execution_count": 1,
      "metadata": {
        "id": "97hcmHe4FO7Z"
      },
      "outputs": [],
      "source": [
        "%load_ext autoreload\n",
        "%autoreload 2"
      ]
    },
    {
      "cell_type": "code",
      "execution_count": 2,
      "metadata": {
        "id": "Pl524SzoFO7b"
      },
      "outputs": [],
      "source": [
        "import string\n",
        "import pandas as pd\n",
        "import time\n",
        "import zipfile\n",
        "%matplotlib inline\n",
        "import matplotlib.pyplot as plt\n",
        "import tensorflow as tf\n",
        "from tensorflow.keras import regularizers\n",
        "from tensorflow.keras.preprocessing.image import ImageDataGenerator\n",
        "\n",
        "pd.set_option('display.max_columns', None)\n",
        "pd.set_option('display.max_rows', None)\n",
        "import warnings\n",
        "warnings.filterwarnings(\"ignore\")"
      ]
    },
    {
      "cell_type": "markdown",
      "metadata": {
        "id": "v6YkSsIhFO7c"
      },
      "source": [
        "## Cargar el train y test"
      ]
    },
    {
      "cell_type": "code",
      "source": [
        "# !wget --no-check-certificate https://storage.googleapis.com/platzi-tf2/sign-language-img.zip \\\n",
        "#     -O sign-language-img.zip"
      ],
      "metadata": {
        "id": "hmTHDbZ4VEk5"
      },
      "execution_count": 3,
      "outputs": []
    },
    {
      "cell_type": "code",
      "source": [
        "# Descomprimimos\n",
        "local_zip = '/tmp/sign-language-img.zip'\n",
        "zip_ref = zipfile.ZipFile(local_zip, 'r')\n",
        "zip_ref.extractall('/tmp/sign-language-img')\n",
        "zip_ref.close()"
      ],
      "metadata": {
        "id": "sOWSM3wcVEuM"
      },
      "execution_count": 4,
      "outputs": []
    },
    {
      "cell_type": "code",
      "execution_count": 5,
      "metadata": {
        "id": "WYIP3RfCFx-b"
      },
      "outputs": [],
      "source": [
        "train_dir = \"/tmp/sign-language-img/Train\"\n",
        "test_dir = \"/tmp/sign-language-img/Test\""
      ]
    },
    {
      "cell_type": "markdown",
      "metadata": {
        "id": "V9E-QWrWFO7d"
      },
      "source": [
        "## Data Generators"
      ]
    },
    {
      "cell_type": "code",
      "execution_count": 6,
      "metadata": {
        "id": "ZuZbfnhFFO7d"
      },
      "outputs": [],
      "source": [
        "train_datagen = ImageDataGenerator(rescale = 1/255)\n",
        "test_datagen = ImageDataGenerator(rescale = 1/255, validation_split= 0.2)"
      ]
    },
    {
      "cell_type": "code",
      "execution_count": 7,
      "metadata": {
        "id": "jhv_oO2oFO7d",
        "outputId": "6f71a465-99d2-4be3-8de5-421099a9f339",
        "colab": {
          "base_uri": "https://localhost:8080/"
        }
      },
      "outputs": [
        {
          "output_type": "stream",
          "name": "stdout",
          "text": [
            "Found 27455 images belonging to 24 classes.\n",
            "Found 1425 images belonging to 24 classes.\n",
            "Found 7172 images belonging to 24 classes.\n"
          ]
        }
      ],
      "source": [
        "train_generator = train_datagen.flow_from_directory(\n",
        "    train_dir,\n",
        "    target_size = (28, 28),\n",
        "    batch_size = 128,\n",
        "    class_mode = \"categorical\",\n",
        "    color_mode = \"grayscale\",\n",
        "    subset = \"training\"\n",
        ")\n",
        "\n",
        "validation_generator = test_datagen.flow_from_directory(\n",
        "    test_dir,\n",
        "    target_size = (28, 28),\n",
        "    batch_size = 128,\n",
        "    class_mode = \"categorical\",\n",
        "    color_mode = \"grayscale\",\n",
        "    subset = \"validation\"\n",
        ")\n",
        "\n",
        "test_generator = test_datagen.flow_from_directory(\n",
        "    test_dir,\n",
        "    target_size = (28, 28),\n",
        "    batch_size = 128,\n",
        "    class_mode = \"categorical\",\n",
        "    color_mode = \"grayscale\"\n",
        ")"
      ]
    },
    {
      "cell_type": "markdown",
      "metadata": {
        "id": "S82_TpMFFO7e"
      },
      "source": [
        "## Definir las clases\n",
        "\n",
        "Recordar que hay dos letras que no tenemos J y Z"
      ]
    },
    {
      "cell_type": "code",
      "execution_count": 8,
      "metadata": {
        "id": "ErTroiA1FO7f",
        "outputId": "e1d37619-f415-4e5a-82c6-1ae6b6395f55",
        "colab": {
          "base_uri": "https://localhost:8080/"
        }
      },
      "outputs": [
        {
          "output_type": "execute_result",
          "data": {
            "text/plain": [
              "['A',\n",
              " 'B',\n",
              " 'C',\n",
              " 'D',\n",
              " 'E',\n",
              " 'F',\n",
              " 'G',\n",
              " 'H',\n",
              " 'I',\n",
              " 'K',\n",
              " 'L',\n",
              " 'M',\n",
              " 'N',\n",
              " 'O',\n",
              " 'P',\n",
              " 'Q',\n",
              " 'R',\n",
              " 'S',\n",
              " 'T',\n",
              " 'U',\n",
              " 'V',\n",
              " 'W',\n",
              " 'X',\n",
              " 'Y']"
            ]
          },
          "metadata": {},
          "execution_count": 8
        }
      ],
      "source": [
        "classes = [char for char in string.ascii_uppercase if char != \"J\" if char != \"Z\"]\n",
        "classes"
      ]
    },
    {
      "cell_type": "markdown",
      "metadata": {
        "id": "quCYnoM4FO7f"
      },
      "source": [
        "## Generate model"
      ]
    },
    {
      "cell_type": "code",
      "execution_count": 9,
      "metadata": {
        "id": "KLL0fjTJFO7f",
        "outputId": "870e826b-5670-4643-ab43-6d202edf657f",
        "colab": {
          "base_uri": "https://localhost:8080/"
        }
      },
      "outputs": [
        {
          "output_type": "stream",
          "name": "stdout",
          "text": [
            "Model: \"sequential\"\n",
            "_________________________________________________________________\n",
            " Layer (type)                Output Shape              Param #   \n",
            "=================================================================\n",
            " conv2d (Conv2D)             (None, 26, 26, 75)        750       \n",
            "                                                                 \n",
            " max_pooling2d (MaxPooling2D  (None, 13, 13, 75)       0         \n",
            " )                                                               \n",
            "                                                                 \n",
            " flatten (Flatten)           (None, 12675)             0         \n",
            "                                                                 \n",
            " dense (Dense)               (None, 256)               3245056   \n",
            "                                                                 \n",
            " dropout (Dropout)           (None, 256)               0         \n",
            "                                                                 \n",
            " dense_1 (Dense)             (None, 128)               32896     \n",
            "                                                                 \n",
            " dropout_1 (Dropout)         (None, 128)               0         \n",
            "                                                                 \n",
            " dense_2 (Dense)             (None, 24)                3096      \n",
            "                                                                 \n",
            "=================================================================\n",
            "Total params: 3,281,798\n",
            "Trainable params: 3,281,798\n",
            "Non-trainable params: 0\n",
            "_________________________________________________________________\n"
          ]
        }
      ],
      "source": [
        "model_convolutional = tf.keras.models.Sequential([\n",
        "              tf.keras.layers.Conv2D(75, (3,3), activation = \"relu\", input_shape= (28, 28, 1)),\n",
        "              tf.keras.layers.MaxPool2D((2,2)),\n",
        "              tf.keras.layers.Flatten(),\n",
        "              tf.keras.layers.Dense(256, kernel_regularizer = regularizers.l2(1e-5), activation = \"relu\"),\n",
        "              tf.keras.layers.Dropout(0.2),\n",
        "              tf.keras.layers.Dense(128, kernel_regularizer= regularizers.l2(1e-5),activation = \"relu\"),\n",
        "              tf.keras.layers.Dropout(0.2),\n",
        "              tf.keras.layers.Dense(len(classes), activation = \"softmax\")\n",
        "])\n",
        "\n",
        "model_convolutional.summary()"
      ]
    },
    {
      "cell_type": "markdown",
      "metadata": {
        "id": "WUg60YZ_FO7f"
      },
      "source": [
        "## Training\n",
        "\n",
        "Entrenemos durante 20 épocas. Esto puede tardar unos minutos en ejecutarse."
      ]
    },
    {
      "cell_type": "code",
      "execution_count": 10,
      "metadata": {
        "id": "f2xxZjGYFO7g"
      },
      "outputs": [],
      "source": [
        "model_convolutional.compile(optimizer = \"adam\", loss = \"categorical_crossentropy\", metrics = ['accuracy'])"
      ]
    },
    {
      "cell_type": "code",
      "execution_count": 11,
      "metadata": {
        "id": "9G6htuxnFO7g",
        "outputId": "da51c590-76e5-4967-89cd-cc4e6c6dd2c3",
        "colab": {
          "base_uri": "https://localhost:8080/"
        }
      },
      "outputs": [
        {
          "output_type": "stream",
          "name": "stdout",
          "text": [
            "Epoch 1/20\n",
            "215/215 [==============================] - 21s 42ms/step - loss: 1.5845 - accuracy: 0.5214 - val_loss: 0.7953 - val_accuracy: 0.7635\n",
            "Epoch 2/20\n",
            "215/215 [==============================] - 9s 40ms/step - loss: 0.3316 - accuracy: 0.9049 - val_loss: 0.6537 - val_accuracy: 0.8042\n",
            "Epoch 3/20\n",
            "215/215 [==============================] - 8s 35ms/step - loss: 0.1284 - accuracy: 0.9728 - val_loss: 0.6436 - val_accuracy: 0.8189\n",
            "Epoch 4/20\n",
            "215/215 [==============================] - 8s 39ms/step - loss: 0.0742 - accuracy: 0.9879 - val_loss: 0.6572 - val_accuracy: 0.8428\n",
            "Epoch 5/20\n",
            "215/215 [==============================] - 8s 39ms/step - loss: 0.0550 - accuracy: 0.9928 - val_loss: 0.6390 - val_accuracy: 0.8512\n",
            "Epoch 6/20\n",
            "215/215 [==============================] - 8s 35ms/step - loss: 0.0443 - accuracy: 0.9952 - val_loss: 0.6811 - val_accuracy: 0.8428\n",
            "Epoch 7/20\n",
            "215/215 [==============================] - 8s 36ms/step - loss: 0.0407 - accuracy: 0.9960 - val_loss: 0.7125 - val_accuracy: 0.8428\n",
            "Epoch 8/20\n",
            "215/215 [==============================] - 8s 39ms/step - loss: 0.0375 - accuracy: 0.9968 - val_loss: 0.6883 - val_accuracy: 0.8582\n",
            "Epoch 9/20\n",
            "215/215 [==============================] - 8s 39ms/step - loss: 0.0362 - accuracy: 0.9969 - val_loss: 0.7071 - val_accuracy: 0.8484\n",
            "Epoch 10/20\n",
            "215/215 [==============================] - 8s 35ms/step - loss: 0.0328 - accuracy: 0.9983 - val_loss: 0.7225 - val_accuracy: 0.8568\n",
            "Epoch 11/20\n",
            "215/215 [==============================] - 8s 36ms/step - loss: 0.0347 - accuracy: 0.9970 - val_loss: 0.7512 - val_accuracy: 0.8568\n",
            "Epoch 12/20\n",
            "215/215 [==============================] - 8s 39ms/step - loss: 0.0304 - accuracy: 0.9987 - val_loss: 0.7636 - val_accuracy: 0.8526\n",
            "Epoch 13/20\n",
            "215/215 [==============================] - 8s 39ms/step - loss: 0.0316 - accuracy: 0.9981 - val_loss: 0.8553 - val_accuracy: 0.8442\n",
            "Epoch 14/20\n",
            "215/215 [==============================] - 8s 36ms/step - loss: 0.0349 - accuracy: 0.9964 - val_loss: 0.7383 - val_accuracy: 0.8533\n",
            "Epoch 15/20\n",
            "215/215 [==============================] - 8s 39ms/step - loss: 0.0310 - accuracy: 0.9978 - val_loss: 0.7701 - val_accuracy: 0.8582\n",
            "Epoch 16/20\n",
            "215/215 [==============================] - 8s 38ms/step - loss: 0.0322 - accuracy: 0.9974 - val_loss: 0.8210 - val_accuracy: 0.8519\n",
            "Epoch 17/20\n",
            "215/215 [==============================] - 8s 37ms/step - loss: 0.0320 - accuracy: 0.9973 - val_loss: 0.7670 - val_accuracy: 0.8414\n",
            "Epoch 18/20\n",
            "215/215 [==============================] - 8s 39ms/step - loss: 0.0344 - accuracy: 0.9968 - val_loss: 0.7685 - val_accuracy: 0.8575\n",
            "Epoch 19/20\n",
            "215/215 [==============================] - 8s 39ms/step - loss: 0.0310 - accuracy: 0.9977 - val_loss: 0.7940 - val_accuracy: 0.8526\n",
            "Epoch 20/20\n",
            "215/215 [==============================] - 8s 35ms/step - loss: 0.0311 - accuracy: 0.9977 - val_loss: 0.8690 - val_accuracy: 0.8470\n"
          ]
        }
      ],
      "source": [
        "history = model_convolutional.fit(\n",
        "    train_generator,\n",
        "    epochs= 20,\n",
        "    validation_data = validation_generator\n",
        ")"
      ]
    },
    {
      "cell_type": "markdown",
      "metadata": {
        "id": "pdcHFZYnFO7g"
      },
      "source": [
        "## Testing"
      ]
    },
    {
      "cell_type": "code",
      "execution_count": 12,
      "metadata": {
        "id": "K-o5F3pNFO7g",
        "colab": {
          "base_uri": "https://localhost:8080/"
        },
        "outputId": "ae6a3a3f-24fe-4dbb-8143-35648933a28a"
      },
      "outputs": [
        {
          "output_type": "stream",
          "name": "stdout",
          "text": [
            "57/57 [==============================] - 2s 38ms/step - loss: 0.7686 - accuracy: 0.8622\n"
          ]
        }
      ],
      "source": [
        "results = model_convolutional.evaluate(test_generator)"
      ]
    },
    {
      "cell_type": "markdown",
      "metadata": {
        "id": "pTRNNienFO7h"
      },
      "source": [
        "## Summary model"
      ]
    },
    {
      "cell_type": "code",
      "execution_count": 13,
      "metadata": {
        "id": "EFL2FcnoFO7h"
      },
      "outputs": [],
      "source": [
        "def visualizacion_resultados(history):\n",
        "    epochs = [i for i in range(20)]\n",
        "    fig, ax = plt.subplots(1,2)\n",
        "    train_acc = history.history[\"accuracy\"]\n",
        "    train_loss = history.history[\"loss\"]\n",
        "    val_acc = history.history[\"val_accuracy\"]\n",
        "    val_loss = history.history[\"val_loss\"]\n",
        "    fig.set_size_inches(16, 9)\n",
        "\n",
        "    ax[0].plot(epochs, train_acc, \"go-\", label =\" Entrenamiento accuracy\")\n",
        "    ax[0].plot(epochs, val_acc, \"ro-\", label= \"Validacion accuracy\")\n",
        "    ax[0].set_title(\"Entrenamiento & validación accuracy\")\n",
        "    ax[0].legend()\n",
        "    ax[0].set_xlabel(\"Epochs\")\n",
        "    ax[0].set_ylabel(\"Accuracy\")\n",
        "\n",
        "    ax[1].plot(epochs, train_loss, \"go-\", label =\" Entrenamiento Loss\")\n",
        "    ax[1].plot(epochs, val_loss, \"ro-\", label= \"Validacion Loss\")\n",
        "    ax[1].set_title(\"Entrenamiento & validación Loss\")\n",
        "    ax[1].legend()\n",
        "    ax[1].set_xlabel(\"Epochs\")\n",
        "    ax[1].set_ylabel(\"Loss\")\n",
        "\n",
        "    plt.show()"
      ]
    },
    {
      "cell_type": "code",
      "execution_count": 14,
      "metadata": {
        "id": "ApoOSwcJFO7h",
        "colab": {
          "base_uri": "https://localhost:8080/",
          "height": 816
        },
        "outputId": "755f3f1f-8b90-4c6b-de85-0f7f110b92a8"
      },
      "outputs": [
        {
          "output_type": "display_data",
          "data": {
            "text/plain": [
              "<Figure size 1600x900 with 2 Axes>"
            ],
            "image/png": "[encoded data removed]"
          },
          "metadata": {}
        }
      ],
      "source": [
        "visualizacion_resultados(history)"
      ]
    },
    {
      "cell_type": "code",
      "execution_count": 15,
      "metadata": {
        "id": "rG38-OUcFO7h",
        "colab": {
          "base_uri": "https://localhost:8080/"
        },
        "outputId": "6c147dae-232b-4d26-b69f-d2466a08c686"
      },
      "outputs": [
        {
          "output_type": "stream",
          "name": "stdout",
          "text": [
            "Ok_\n"
          ]
        }
      ],
      "source": [
        "print('Ok_')"
      ]
    }
  ],
  "metadata": {
    "accelerator": "GPU",
    "colab": {
      "gpuType": "T4",
      "provenance": [],
      "include_colab_link": true
    },
    "kernelspec": {
      "display_name": "Python 3",
      "name": "python3"
    },
    "language_info": {
      "codemirror_mode": {
        "name": "ipython",
        "version": 3
      },
      "file_extension": ".py",
      "mimetype": "text/x-python",
      "name": "python",
      "nbconvert_exporter": "python",
      "pygments_lexer": "ipython3",
      "version": "3.11.4"
    },
    "orig_nbformat": 4
  },
  "nbformat": 4,
  "nbformat_minor": 0
}