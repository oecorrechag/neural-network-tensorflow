{
  "cells": [
    {
      "cell_type": "markdown",
      "metadata": {
        "id": "view-in-github",
        "colab_type": "text"
      },
      "source": [
        "<a href=\"https://colab.research.google.com/github/oecorrechag/neural-network-tensorflow/blob/main/class%206_preprocesamiento.ipynb\" target=\"_parent\"><img src=\"https://colab.research.google.com/assets/colab-badge.svg\" alt=\"Open In Colab\"/></a>"
      ]
    },
    {
      "cell_type": "markdown",
      "metadata": {
        "id": "_bj-bijshNB-"
      },
      "source": [
        "# AIMS\n",
        "\n",
        "En este archivo se revisara los nulos y duplicados del archivo: sign_mnist_train_clean.csv\n",
        "\n",
        "Se encontro que los indices 317,487, 595, 689, 802, 861 y 727 son nulos."
      ]
    },
    {
      "cell_type": "code",
      "execution_count": null,
      "metadata": {
        "id": "cnx1Vk7NhNCQ"
      },
      "outputs": [],
      "source": [
        "%load_ext autoreload\n",
        "%autoreload 2"
      ]
    },
    {
      "cell_type": "code",
      "execution_count": null,
      "metadata": {
        "id": "MgLjl08OhNCT"
      },
      "outputs": [],
      "source": [
        "import pandas as pd\n",
        "import numpy as np\n",
        "import plotly.express as px\n",
        "import zipfile\n",
        "\n",
        "pd.set_option('display.max_columns', None)\n",
        "pd.set_option('display.max_rows', None)\n",
        "import warnings\n",
        "warnings.filterwarnings(\"ignore\")"
      ]
    },
    {
      "cell_type": "markdown",
      "metadata": {
        "id": "5KmKUTEDhNCX"
      },
      "source": [
        "## Preprocesamiento y limpieza de datos"
      ]
    },
    {
      "cell_type": "code",
      "source": [
        "# Descomprimimos\n",
        "local_zip = '/tmp/databasesLoadData.zip'\n",
        "zip_ref = zipfile.ZipFile(local_zip, 'r')\n",
        "zip_ref.extractall('/tmp/databasesLoadData')\n",
        "zip_ref.close()"
      ],
      "metadata": {
        "id": "ZOJj5zWsiQNZ"
      },
      "execution_count": null,
      "outputs": []
    },
    {
      "cell_type": "code",
      "execution_count": null,
      "metadata": {
        "id": "Tq5mZkNGhNCb"
      },
      "outputs": [],
      "source": [
        "train = pd.read_csv(\"/tmp/databasesLoadData/sign_mnist_train/sign_mnist_train_clean.csv\")\n",
        "test = pd.read_csv(\"/tmp/databasesLoadData/sign_mnist_test/sign_mnist_test.csv\")\n",
        "train.head()"
      ]
    },
    {
      "cell_type": "code",
      "execution_count": null,
      "metadata": {
        "id": "yGO-sc0ThNCc"
      },
      "outputs": [],
      "source": [
        "labels = train['label'].values"
      ]
    },
    {
      "cell_type": "code",
      "execution_count": null,
      "metadata": {
        "id": "lUlzxLZJhNCg"
      },
      "outputs": [],
      "source": [
        "fig = px.histogram(train, x=\"label\", color='label')\n",
        "fig.update_layout(yaxis_title='total')\n",
        "fig.update_layout(showlegend=False)\n",
        "fig.update_layout(bargap=0.2)\n",
        "fig.show()"
      ]
    },
    {
      "cell_type": "code",
      "execution_count": null,
      "metadata": {
        "id": "X0pb6EgWhNCh"
      },
      "outputs": [],
      "source": [
        "y_train = train['label']\n",
        "y_test = test['label']\n",
        "del train['label']\n",
        "del test['label']"
      ]
    },
    {
      "cell_type": "code",
      "execution_count": null,
      "metadata": {
        "id": "sdkbkV0bhNCi"
      },
      "outputs": [],
      "source": [
        "train.info()"
      ]
    },
    {
      "cell_type": "code",
      "execution_count": null,
      "metadata": {
        "id": "1Xd_23ZphNCi"
      },
      "outputs": [],
      "source": [
        "train.dtypes"
      ]
    },
    {
      "cell_type": "code",
      "execution_count": null,
      "metadata": {
        "id": "H94SEs5OhNCj"
      },
      "outputs": [],
      "source": [
        "unique_val = np.array(labels)\n",
        "np.unique(unique_val)"
      ]
    },
    {
      "cell_type": "code",
      "execution_count": null,
      "metadata": {
        "id": "MFFqrMdPhNCj"
      },
      "outputs": [],
      "source": [
        "train.isnull().values.any()"
      ]
    },
    {
      "cell_type": "code",
      "execution_count": null,
      "metadata": {
        "id": "SpWjMmS-hNCj"
      },
      "outputs": [],
      "source": [
        "train[train.duplicated()]"
      ]
    },
    {
      "cell_type": "code",
      "execution_count": null,
      "metadata": {
        "id": "ziAuldXxhNCk"
      },
      "outputs": [],
      "source": [
        "train = train.drop([317,487, 595, 689, 802, 861], axis = 0)"
      ]
    },
    {
      "cell_type": "code",
      "execution_count": null,
      "metadata": {
        "id": "SVISk4rihNCk"
      },
      "outputs": [],
      "source": [
        "train[train['pixel1'] == \"fwefew\"]"
      ]
    },
    {
      "cell_type": "code",
      "execution_count": null,
      "metadata": {
        "id": "m5LFHn0yhNCk"
      },
      "outputs": [],
      "source": [
        "train = train.drop([727], axis = 0)"
      ]
    },
    {
      "cell_type": "code",
      "execution_count": null,
      "metadata": {
        "id": "MNrZNcDShNCl"
      },
      "outputs": [],
      "source": [
        "train = train.astype(str).astype(int)"
      ]
    },
    {
      "cell_type": "code",
      "execution_count": null,
      "metadata": {
        "id": "PxenO5DAhNCl"
      },
      "outputs": [],
      "source": [
        "train = train / 255\n",
        "test = test / 255"
      ]
    },
    {
      "cell_type": "code",
      "execution_count": null,
      "metadata": {
        "id": "FRkKamfPhNCl"
      },
      "outputs": [],
      "source": [
        "train.head()"
      ]
    },
    {
      "cell_type": "code",
      "execution_count": null,
      "metadata": {
        "id": "TqJ9wSt0hNCm"
      },
      "outputs": [],
      "source": [
        "print('Ok_')"
      ]
    }
  ],
  "metadata": {
    "kernelspec": {
      "display_name": "Python 3",
      "language": "python",
      "name": "python3"
    },
    "language_info": {
      "codemirror_mode": {
        "name": "ipython",
        "version": 3
      },
      "file_extension": ".py",
      "mimetype": "text/x-python",
      "name": "python",
      "nbconvert_exporter": "python",
      "pygments_lexer": "ipython3",
      "version": "3.11.4"
    },
    "orig_nbformat": 4,
    "colab": {
      "provenance": [],
      "include_colab_link": true
    }
  },
  "nbformat": 4,
  "nbformat_minor": 0
}