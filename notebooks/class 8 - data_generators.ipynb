{
  "cells": [
    {
      "cell_type": "markdown",
      "metadata": {
        "id": "view-in-github",
        "colab_type": "text"
      },
      "source": [
        "<a href=\"https://colab.research.google.com/github/oecorrechag/neural-network-tensorflow/blob/main/class_8_data_generators.ipynb\" target=\"_parent\"><img src=\"https://colab.research.google.com/assets/colab-badge.svg\" alt=\"Open In Colab\"/></a>"
      ]
    },
    {
      "cell_type": "markdown",
      "metadata": {
        "id": "41VbYhhZ0rYW"
      },
      "source": [
        "# AIMS\n",
        "\n",
        "Data Generators para no saturar la memoria"
      ]
    },
    {
      "cell_type": "code",
      "execution_count": null,
      "metadata": {
        "id": "S3neQnbZ0rYf"
      },
      "outputs": [],
      "source": [
        "%load_ext autoreload\n",
        "%autoreload 2"
      ]
    },
    {
      "cell_type": "code",
      "execution_count": null,
      "metadata": {
        "id": "6hIOcE290rYj"
      },
      "outputs": [],
      "source": [
        "import string\n",
        "import pandas as pd\n",
        "import numpy as np\n",
        "import zipfile\n",
        "%matplotlib inline\n",
        "import matplotlib.pyplot as plt\n",
        "import tensorflow as tf\n",
        "from tensorflow.keras.preprocessing.image import ImageDataGenerator\n",
        "\n",
        "pd.set_option('display.max_columns', None)\n",
        "pd.set_option('display.max_rows', None)\n",
        "import warnings\n",
        "warnings.filterwarnings(\"ignore\")"
      ]
    },
    {
      "cell_type": "code",
      "execution_count": null,
      "metadata": {
        "id": "uif0nqnG0rYn"
      },
      "outputs": [],
      "source": [
        "# !wget --no-check-certificate https://storage.googleapis.com/platzi-tf2/sign-language-img.zip \\\n",
        "#     -O sign-language-img.zip"
      ]
    },
    {
      "cell_type": "code",
      "execution_count": null,
      "metadata": {
        "id": "nEf9Bu590rYo"
      },
      "outputs": [],
      "source": [
        "# Descomprimimos\n",
        "local_zip = '/tmp/sign-language-img.zip'\n",
        "zip_ref = zipfile.ZipFile(local_zip, 'r')\n",
        "zip_ref.extractall('/tmp/sign-language-img')\n",
        "zip_ref.close()"
      ]
    },
    {
      "cell_type": "markdown",
      "metadata": {
        "id": "ClNoUdv20rYp"
      },
      "source": [
        "## Cargar el train y test"
      ]
    },
    {
      "cell_type": "code",
      "execution_count": null,
      "metadata": {
        "id": "EXStzYBT0rYr"
      },
      "outputs": [],
      "source": [
        "train_dir = \"/tmp/sign-language-img/Train\"\n",
        "test_dir = \"/tmp/sign-language-img/Test\""
      ]
    },
    {
      "cell_type": "markdown",
      "metadata": {
        "id": "ZzSOft5w0rYs"
      },
      "source": [
        "## Data Generators"
      ]
    },
    {
      "cell_type": "code",
      "execution_count": null,
      "metadata": {
        "id": "WMvVutQq0rYs"
      },
      "outputs": [],
      "source": [
        "train_datagen = ImageDataGenerator(rescale = 1/255)\n",
        "test_datagen = ImageDataGenerator(rescale = 1/255, validation_split= 0.2)"
      ]
    },
    {
      "cell_type": "code",
      "execution_count": null,
      "metadata": {
        "id": "TXn3wc4R0rYt"
      },
      "outputs": [],
      "source": [
        "train_generator = train_datagen.flow_from_directory(\n",
        "    train_dir,\n",
        "    target_size = (28, 28),\n",
        "    batch_size = 128,\n",
        "    class_mode = \"categorical\",\n",
        "    color_mode = \"grayscale\",\n",
        "    subset = \"training\"\n",
        ")\n",
        "\n",
        "validation_generator = test_datagen.flow_from_directory(\n",
        "    test_dir,\n",
        "    target_size = (28, 28),\n",
        "    batch_size = 128,\n",
        "    class_mode = \"categorical\",\n",
        "    color_mode = \"grayscale\",\n",
        "    subset = \"validation\"\n",
        ")\n",
        "\n",
        "test_generator = test_datagen.flow_from_directory(\n",
        "    test_dir,\n",
        "    target_size = (28, 28),\n",
        "    batch_size = 128,\n",
        "    class_mode = \"categorical\",\n",
        "    color_mode = \"grayscale\"\n",
        ")"
      ]
    },
    {
      "cell_type": "markdown",
      "metadata": {
        "id": "Rxd-RlcZ0rYv"
      },
      "source": [
        "## Definir las clases\n",
        "\n",
        "Recordar que hay dos letras que no tenemos J y Z"
      ]
    },
    {
      "cell_type": "code",
      "execution_count": null,
      "metadata": {
        "id": "I9_kPEft0rYv"
      },
      "outputs": [],
      "source": [
        "classes = [char for char in string.ascii_uppercase if char != \"J\" if char != \"Z\"]\n",
        "classes"
      ]
    },
    {
      "cell_type": "markdown",
      "metadata": {
        "id": "upOolS6L0rYw"
      },
      "source": [
        "## Visualizacion"
      ]
    },
    {
      "cell_type": "code",
      "execution_count": null,
      "metadata": {
        "id": "15OXvWHv0rYw"
      },
      "outputs": [],
      "source": [
        "def plotImages(images_arr):\n",
        "  fig, axes = plt.subplots(1, 5, figsize = (10, 10))\n",
        "  axes = axes.flatten()\n",
        "  for img, ax in zip(images_arr, axes):\n",
        "    ax.imshow(img[:,:,0])\n",
        "    ax.axis(\"off\")\n",
        "  plt.tight_layout()\n",
        "  plt.show()"
      ]
    },
    {
      "cell_type": "code",
      "execution_count": null,
      "metadata": {
        "id": "oNEvq0gy0rYx"
      },
      "outputs": [],
      "source": [
        "sample_training_images, _= next(train_generator)\n",
        "plotImages(sample_training_images[:5])"
      ]
    },
    {
      "cell_type": "code",
      "execution_count": null,
      "metadata": {
        "id": "rKF4LaGq0rYx"
      },
      "outputs": [],
      "source": [
        "print('Ok_')"
      ]
    }
  ],
  "metadata": {
    "kernelspec": {
      "display_name": "Python 3",
      "language": "python",
      "name": "python3"
    },
    "language_info": {
      "codemirror_mode": {
        "name": "ipython",
        "version": 3
      },
      "file_extension": ".py",
      "mimetype": "text/x-python",
      "name": "python",
      "nbconvert_exporter": "python",
      "pygments_lexer": "ipython3",
      "version": "3.11.4"
    },
    "orig_nbformat": 4,
    "colab": {
      "provenance": [],
      "include_colab_link": true
    }
  },
  "nbformat": 4,
  "nbformat_minor": 0
}